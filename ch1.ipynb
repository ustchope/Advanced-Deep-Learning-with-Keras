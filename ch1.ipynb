{
 "cells": [
  {
   "cell_type": "code",
   "execution_count": 1,
   "id": "517f40f6",
   "metadata": {},
   "outputs": [
    {
     "name": "stdout",
     "output_type": "stream",
     "text": [
      "time: 7.14 ms (started: 2021-08-10 13:30:10 +08:00)\n"
     ]
    }
   ],
   "source": [
    "# 自动计算cell的计算时间\n",
    "%load_ext autotime\n",
    "\n",
    "%config InlineBackend.figure_format='svg' #矢量图设置，让绘图更清晰"
   ]
  },
  {
   "cell_type": "code",
   "execution_count": 2,
   "id": "6688f80e",
   "metadata": {},
   "outputs": [
    {
     "name": "stdout",
     "output_type": "stream",
     "text": [
      "origin\tgit@github.com:ustchope/Advanced-Deep-Learning-with-Keras.git (fetch)\n",
      "origin\tgit@github.com:ustchope/Advanced-Deep-Learning-with-Keras.git (push)\n",
      "[master 8d16327] 更新 ch1 #1 change Aug 10, 2021\n",
      " 1 file changed, 1256 insertions(+), 8 deletions(-)\n"
     ]
    },
    {
     "name": "stderr",
     "output_type": "stream",
     "text": [
      "Warning: Permanently added the RSA host key for IP address '13.250.177.223' to the list of known hosts.\n",
      "To github.com:ustchope/Advanced-Deep-Learning-with-Keras.git\n",
      "   7bb8d86..8d16327  master -> master\n"
     ]
    },
    {
     "name": "stdout",
     "output_type": "stream",
     "text": [
      "time: 5.83 s (started: 2021-08-10 13:30:23 +08:00)\n"
     ]
    }
   ],
   "source": [
    "%%bash\n",
    "\n",
    "# 增加更新\n",
    "git add *.ipynb\n",
    "\n",
    "git remote -v\n",
    "\n",
    "git commit -m '更新 ch1 #1 change Aug 10, 2021'\n",
    "\n",
    "git push origin master"
   ]
  },
  {
   "cell_type": "code",
   "execution_count": 3,
   "id": "a157f136",
   "metadata": {},
   "outputs": [
    {
     "name": "stdout",
     "output_type": "stream",
     "text": [
      "time: 1.41 s (started: 2021-08-10 13:30:31 +08:00)\n"
     ]
    }
   ],
   "source": [
    "#设置使用的gpu\n",
    "import tensorflow as tf\n",
    "\n",
    "gpus = tf.config.list_physical_devices(\"GPU\")\n",
    "\n",
    "if gpus:\n",
    "   \n",
    "    gpu0 = gpus[0] #如果有多个GPU，仅使用第0个GPU\n",
    "    tf.config.experimental.set_memory_growth(gpu0, True) #设置GPU显存用量按需使用\n",
    "    # 或者也可以设置GPU显存为固定使用量(例如：4G)\n",
    "    #tf.config.experimental.set_virtual_device_configuration(gpu0,\n",
    "    #    [tf.config.experimental.VirtualDeviceConfiguration(memory_limit=4096)]) \n",
    "    tf.config.set_visible_devices([gpu0],\"GPU\")"
   ]
  },
  {
   "cell_type": "markdown",
   "id": "9c13f12b",
   "metadata": {},
   "source": [
    "# 使用 Keras 引入高级深度学习"
   ]
  },
  {
   "cell_type": "markdown",
   "id": "152f7fa7",
   "metadata": {},
   "source": [
    "在第一章中，我们将介绍我们将在整本书中使用的三个深度学习人工神经网络。 这些网络是 MLP、CNN 和 RNN（在第 2 节中定义和描述），它们是本书涵盖的选定高级深度学习主题的构建块，例如自回归网络（自动编码器、GAN 和 VAE）、深度强化学习 ，对象检测和分割，以及使用互信息的无监督学习。"
   ]
  },
  {
   "cell_type": "markdown",
   "id": "0da94e40",
   "metadata": {},
   "source": [
    "在本章中，我们将一起讨论如何使用 Keras 库实现基于 MLP、CNN 和 RNN 的模型。 更具体地说，我们将使用名为 tf.keras 的 TensorFlow Keras 库。 我们将首先了解为什么 tf.keras 是我们作为工具的绝佳选择。 接下来，我们将深入研究三个深度学习网络中的实现细节。"
   ]
  },
  {
   "cell_type": "markdown",
   "id": "12f24d33",
   "metadata": {},
   "source": [
    "本章将：\n",
    "* 确定为什么 tf.keras 库是用于高级深度学习的绝佳选择\n",
    "* 介绍 MLP、CNN 和 RNN——高级深度学习模型的核心构建块，我们将在本书中使用它们\n",
    "* 提供如何使用 tf.keras 实现基于 MLP、CNN 和 RNN 的模型的示例\n",
    "* 沿着这条线，开始介绍重要的深度学习概念，包括优化、正则化和损失函数"
   ]
  },
  {
   "cell_type": "markdown",
   "id": "c2600a91",
   "metadata": {},
   "source": [
    "在本章结束时，我们将使用 tf.keras 实现基本的深度学习网络。 在下一章中，我们将进入建立在这些基础之上的高级深度学习主题。 让我们通过讨论 Keras 及其作为深度学习库的功能开始本章。"
   ]
  },
  {
   "cell_type": "markdown",
   "id": "75dba565",
   "metadata": {},
   "source": [
    "## 为什么 Keras 是完美的深度学习库？"
   ]
  },
  {
   "cell_type": "markdown",
   "id": "9289daee",
   "metadata": {},
   "source": [
    "Keras 是一个流行的深度学习库，在撰写本文时有超过 370,000 名开发人员在使用它——这个数字每年增加约 35%。 超过 800 名贡献者积极维护它。 我们将在本书中使用的一些示例已贡献给官方 Keras GitHub 存储库。"
   ]
  },
  {
   "cell_type": "markdown",
   "id": "77c603cc",
   "metadata": {},
   "source": [
    "谷歌的 TensorFlow 是一个流行的开源深度学习库，它使用 Keras 作为其库的高级 API。 它通常被称为 tf.keras。 在本书中，我们将交替使用 Keras 和 tf.keras 这两个词。"
   ]
  },
  {
   "cell_type": "markdown",
   "id": "ccbc0556",
   "metadata": {},
   "source": [
    "tf.keras 是深度学习库的流行选择，因为它高度集成到 TensorFlow 中，TensorFlow 在生产部署中以其可靠性而闻名。 TensorFlow 还提供了各种用于生产部署和维护、调试和可视化以及在嵌入式设备和浏览器上运行模型的工具。 在科技行业，谷歌、Netflix、优步和英伟达都在使用 Keras。"
   ]
  },
  {
   "cell_type": "markdown",
   "id": "63089cd6",
   "metadata": {},
   "source": [
    "我们选择 tf.keras 作为我们在本书中使用的首选工具，因为它是一个致力于加速深度学习模型实现的库。 这使得 Keras 非常适合我们想要实用和动手的情况，例如当我们探索本书中的高级深度学习概念时。 因为 Keras 旨在加速深度学习模型的开发、训练和验证，所以在有人可以最大限度地使用库之前，必须学习该领域的关键概念。"
   ]
  },
  {
   "cell_type": "markdown",
   "id": "7342c6b6",
   "metadata": {},
   "source": [
    "> 本书中的所有示例都可以在 GitHub 上的以下链接中找到：https://github.com/PacktPublishing/Advanced-Deep-Learning-with-Keras。"
   ]
  },
  {
   "cell_type": "markdown",
   "id": "25526ef4",
   "metadata": {},
   "source": [
    "在 tf.keras 库中，层像乐高积木一样相互连接，从而产生一个干净且易于理解的模型。 模型训练很简单，只需要数据、多个训练时期和要监控的指标。"
   ]
  },
  {
   "cell_type": "markdown",
   "id": "349ea268",
   "metadata": {},
   "source": [
    "最终结果是，与 PyTorch 等其他深度学习库相比，大多数深度学习模型的实现代码行数要少得多。 通过使用 Keras，我们将通过节省代码实现时间来提高生产力，而这些时间可以用于更关键的任务，例如制定更好的深度学习算法。"
   ]
  },
  {
   "cell_type": "markdown",
   "id": "161eacfa",
   "metadata": {},
   "source": [
    "同样，Keras 是快速实现深度学习模型的理想选择，就像我们将在本书中使用的模型一样。 使用 Sequential 模型 API，只需几行代码即可构建典型模型。 但是，不要被它的简单性所误导。"
   ]
  },
  {
   "cell_type": "markdown",
   "id": "30551458",
   "metadata": {},
   "source": [
    "Keras 还可以使用其功能 API 以及用于动态图的模型和层类构建更高级和复杂的模型，这些模型可以进行定制以满足独特的需求。 函数式 API 支持构建图样模型、层重用以及创建行为类似于 Python 函数的模型。 同时，Model 和 Layer 类为实现不常见或实验性的深度学习模型和层提供了框架。"
   ]
  },
  {
   "cell_type": "markdown",
   "id": "163bb600",
   "metadata": {},
   "source": [
    "### 安装 Keras 和 TensorFlow"
   ]
  },
  {
   "cell_type": "markdown",
   "id": "484436f2",
   "metadata": {},
   "source": [
    "Keras 不是一个独立的深度学习库。 如图 1.1.1 所示，它建立在另一个深度学习库或后端之上。 这可能是 Google 的 TensorFlow、MILA 的 Theano、微软的 CNTK 或 Apache MXNet。 然而，与本书的前一版不同，我们将使用由 TensorFlow 2.0（tf2 或简称为 tf）提供的 Keras，即 tf.keras，以利用 tf2 提供的有用工具。 tf.keras 也被认为是 TensorFlow 的事实上的前端，它在生产环境中展示了其经过验证的可靠性。 此外，Keras 对 TensorFlow 以外的后端的支持在不久的将来将不再可用。"
   ]
  },
  {
   "cell_type": "markdown",
   "id": "75a93640",
   "metadata": {},
   "source": [
    "从 Keras 迁移到 tf.keras 通常与更改一样简单：\n",
    "```\n",
    "from keras... import ...\n",
    "```\n",
    "到\n",
    "```\n",
    "from tensorflow.keras... import ...\n",
    "```\n",
    "本书中的代码示例均使用 Python 3 编写，以支持 Python 2到 2020 年结束。"
   ]
  },
  {
   "cell_type": "markdown",
   "id": "a639b97e",
   "metadata": {},
   "source": [
    "在硬件上，Keras 在 CPU、GPU 和 Google 的 TPU 上运行。 在本书中，我们将在 CPU 和 NVIDIA GPU（特别是 GTX 1060、GTX 1080Ti、RTX 2080Ti、V100 和 Quadro RTX 8000 型号）上进行测试："
   ]
  },
  {
   "cell_type": "markdown",
   "id": "f766ffaa",
   "metadata": {},
   "source": [
    "![](https://tva1.sinaimg.cn/large/008i3skNly1gtb3uk02tpj31f40j675z.jpg)"
   ]
  },
  {
   "cell_type": "markdown",
   "id": "6ad7b507",
   "metadata": {},
   "source": [
    "在继续本书的其余部分之前，我们需要确保 tf2 已正确安装。 有多种安装方式； 一个例子是使用 pip3 安装 tf2："
   ]
  },
  {
   "cell_type": "markdown",
   "id": "6851207f",
   "metadata": {},
   "source": [
    "本书不包括完整的 Keras API。 我们将只涵盖解释本书中选定的高级深度学习主题所需的材料。 更多信息，我们可以查阅官方 Keras 文档，可以在 https://keras.io 或 https://www.tensorflow.org/guide/keras/overview 找到。"
   ]
  },
  {
   "cell_type": "markdown",
   "id": "0050504a",
   "metadata": {},
   "source": [
    "在接下来的部分中，将讨论 MLP、CNN 和 RNN 的细节。 这些网络将用于使用 tf.keras 构建一个简单的分类器。"
   ]
  },
  {
   "cell_type": "markdown",
   "id": "f4c38574",
   "metadata": {},
   "source": [
    "## MLP, CNN和 RNN"
   ]
  },
  {
   "cell_type": "markdown",
   "id": "cb27fab6",
   "metadata": {},
   "source": [
    "我们已经提到我们将使用三个深度学习网络，它们是：\n",
    "* MLP：多层感知器\n",
    "* CNN：卷积神经网络\n",
    "* RNN：循环神经网络"
   ]
  },
  {
   "cell_type": "markdown",
   "id": "0bef98a4",
   "metadata": {},
   "source": [
    "这是我们将在本书中使用的三个网络。 稍后，您会发现它们经常组合在一起以利用每个网络的优势。\n",
    "\n",
    "在本章中，我们将更详细地讨论这些构建块。 在以下部分中，MLP 与其他重要主题（例如损失函数、优化器和正则化器）一起讨论。 在此之后，我们将涵盖 CNN 和 RNN。"
   ]
  },
  {
   "cell_type": "markdown",
   "id": "eabf6de7",
   "metadata": {},
   "source": [
    "### MLP、CNN、RNN的区别"
   ]
  },
  {
   "cell_type": "markdown",
   "id": "2be1b784",
   "metadata": {},
   "source": [
    "MLP 是一个全连接 (FC) 网络。 在某些文献中，您经常会发现它被称为深度前馈网络或前馈神经网络。 在本书中，我们将使用术语 MLP。 从已知目标应用程序的角度理解这个网络将有助于我们深入了解设计高级深度学习模型的根本原因。"
   ]
  },
  {
   "cell_type": "markdown",
   "id": "27a38450",
   "metadata": {},
   "source": [
    "MLP 在简单的逻辑和线性回归问题中很常见。 然而，MLP 并不是处理顺序和多维数据模式的最佳选择。 按照设计，MLP 很难记住顺序数据中的模式，并且需要大量参数来处理多维数据。"
   ]
  },
  {
   "cell_type": "markdown",
   "id": "2c027247",
   "metadata": {},
   "source": [
    "对于顺序数据输入，RNN 很受欢迎，因为其内部设计允许网络发现数据历史中的依赖关系，这对预测很有用。 对于图像和视频等多维数据，CNN 擅长提取用于分类、分割、生成和其他下游任务的特征图。 在某些情况下，一维卷积形式的 CNN 也用于具有顺序输入数据的网络。 然而，在大多数深度学习模型中，MLP 和 CNN 或 RNN 相结合，以充分利用每个网络。"
   ]
  },
  {
   "cell_type": "markdown",
   "id": "e3259fee",
   "metadata": {},
   "source": [
    "MLP、CNN 和 RNN 并没有完成深度网络的全貌。 需要确定目标或损失函数、优化器和正则化器。 目标是在训练期间减少损失函数值，因为这种减少是模型正在学习的一个很好的指标。"
   ]
  },
  {
   "cell_type": "markdown",
   "id": "0595d80b",
   "metadata": {},
   "source": [
    "为了最小化这个值，模型使用了一个优化器。 这是一种确定在每个训练步骤中应如何调整权重和偏差的算法。 经过训练的模型不仅必须适用于训练数据，还必须适用于训练环境之外的数据。 正则化器的作用是确保训练后的模型泛化到新数据。"
   ]
  },
  {
   "cell_type": "markdown",
   "id": "bf904a88",
   "metadata": {},
   "source": [
    "现在，让我们进入三个网络——我们将从讨论 MLP 网络开始。"
   ]
  },
  {
   "cell_type": "markdown",
   "id": "a7e29d29",
   "metadata": {},
   "source": [
    "## 多层感知器 (MLP)"
   ]
  },
  {
   "cell_type": "markdown",
   "id": "eb954999",
   "metadata": {},
   "source": [
    "我们将要研究的三个网络中的第一个是 MLP 网络。 假设目标是创建一个神经网络，用于根据手写数字识别数字。 例如，当网络的输入是手写数字 8 的图像时，相应的预测也必须是数字 8。这是分类器网络的经典工作，可以使用逻辑回归进行训练。 为了训练和验证分类器网络，必须有足够大的手写数字数据集。 修改后的美国国家标准与技术研究院数据集，简称 MNIST，通常被认为是 Hello World！ 深度学习数据集。 它是一个适合手写数字分类的数据集。"
   ]
  },
  {
   "cell_type": "markdown",
   "id": "1ae4a3cf",
   "metadata": {},
   "source": [
    "在我们讨论 MLP 分类器模型之前，我们必须了解 MNIST 数据集。 本书中的大量示例使用了 MNIST 数据集。 MNIST 用于解释和验证许多深度学习理论，因为它包含的 70,000 个样本很小，但信息却足够丰富："
   ]
  },
  {
   "cell_type": "markdown",
   "id": "64db6867",
   "metadata": {},
   "source": [
    "![](https://tva1.sinaimg.cn/large/008i3skNgy1gtb44zs672j31ba0kw0uv.jpg)"
   ]
  },
  {
   "cell_type": "markdown",
   "id": "0080fc64",
   "metadata": {},
   "source": [
    "在下一节中，我们将简要介绍 MNIST。"
   ]
  },
  {
   "cell_type": "markdown",
   "id": "75de2cf5",
   "metadata": {},
   "source": [
    "### MNIST 数据集"
   ]
  },
  {
   "cell_type": "markdown",
   "id": "0db7ce72",
   "metadata": {},
   "source": [
    "MNIST 是一个范围从 0 到 9 的手写数字的集合。它有一个包含 60,000 张图像的训练集和 10,000 张分类到相应类别或标签的测试图像。 在某些文献中，术语目标或基本事实也用于指代标签。"
   ]
  },
  {
   "cell_type": "markdown",
   "id": "1840727b",
   "metadata": {},
   "source": [
    "在上图中，可以看到 MNIST 数字的示例图像，每个图像的大小为 28 x 28 像素，灰度级。 为了在 Keras 中使用 MNIST 数据集，提供了一个 API 来自动下载和提取图像和标签。 代码清单 1.3.1 演示了如何在一行中加载 MNIST 数据集，允许我们计算训练和测试标签，然后绘制 25 个随机数字图像。"
   ]
  },
  {
   "cell_type": "markdown",
   "id": "62f6a03c",
   "metadata": {},
   "source": [
    "> 清单 1.3.1：mnist-sampler-1.3.1.py"
   ]
  },
  {
   "cell_type": "code",
   "execution_count": 6,
   "id": "776a2330",
   "metadata": {},
   "outputs": [
    {
     "name": "stdout",
     "output_type": "stream",
     "text": [
      "Train labels:  {0: 5923, 1: 6742, 2: 5958, 3: 6131, 4: 5842, 5: 5421, 6: 5918, 7: 6265, 8: 5851, 9: 5949}\n",
      "Test labels:  {0: 980, 1: 1135, 2: 1032, 3: 1010, 4: 982, 5: 892, 6: 958, 7: 1028, 8: 974, 9: 1009}\n"
     ]
    },
    {
     "data": {
      "image/svg+xml": [
       "<?xml version=\"1.0\" encoding=\"utf-8\" standalone=\"no\"?>\n",
       "<!DOCTYPE svg PUBLIC \"-//W3C//DTD SVG 1.1//EN\"\n",
       "  \"http://www.w3.org/Graphics/SVG/1.1/DTD/svg11.dtd\">\n",
       "<svg height=\"286.2pt\" version=\"1.1\" viewBox=\"0 0 292.158621 286.2\" width=\"292.158621pt\" xmlns=\"http://www.w3.org/2000/svg\" xmlns:xlink=\"http://www.w3.org/1999/xlink\">\n",
       " <metadata>\n",
       "  <rdf:RDF xmlns:cc=\"http://creativecommons.org/ns#\" xmlns:dc=\"http://purl.org/dc/elements/1.1/\" xmlns:rdf=\"http://www.w3.org/1999/02/22-rdf-syntax-ns#\">\n",
       "   <cc:Work>\n",
       "    <dc:type rdf:resource=\"http://purl.org/dc/dcmitype/StillImage\"/>\n",
       "    <dc:date>2021-08-10T13:32:44.029914</dc:date>\n",
       "    <dc:format>image/svg+xml</dc:format>\n",
       "    <dc:creator>\n",
       "     <cc:Agent>\n",
       "      <dc:title>Matplotlib v3.4.2, https://matplotlib.org/</dc:title>\n",
       "     </cc:Agent>\n",
       "    </dc:creator>\n",
       "   </cc:Work>\n",
       "  </rdf:RDF>\n",
       " </metadata>\n",
       " <defs>\n",
       "  <style type=\"text/css\">*{stroke-linecap:butt;stroke-linejoin:round;}</style>\n",
       " </defs>\n",
       " <g id=\"figure_1\">\n",
       "  <g id=\"patch_1\">\n",
       "   <path d=\"M 0 286.2 \n",
       "L 292.158621 286.2 \n",
       "L 292.158621 0 \n",
       "L 0 0 \n",
       "z\n",
       "\" style=\"fill:none;\"/>\n",
       "  </g>\n",
       "  <g id=\"axes_1\">\n",
       "   <g clip-path=\"url(#p62b276ae5a)\">\n",
       "    <image height=\"47\" id=\"imageacd36cf4a1\" transform=\"scale(1 -1)translate(0 -47)\" width=\"47\" x=\"7.2\" xlink:href=\"data:image/png;base64,\n",
       "iVBORw0KGgoAAAANSUhEUgAAAC8AAAAvCAYAAABzJ5OsAAAHwElEQVR4nO2YS08TbxuHrzm0nR44lXISClJArMQD8RCNJho0Jsbowo0Jxp2fwK0b4xfwE7hyY0wM6saEhSEEIihC1EA9oICFQqWttkNLO5123oXp5E9AilZC3sRfMpvpPM99Paf7+fUWAIP/U4k7DVCK/sHvlOS/2ZkgCMiyjCiKSJK04TeGYWAYBrquk8/n17z7Xf01eKfTidPpZO/evdTU1OD3+xHF9QubSqVQVZWRkRGi0SiGYbCyskI8Hv/tmCXBi6KIy+Wio6OD6upq3G437e3tuN1uWltbEQRhXZt0Ok0qlcLhcPDjxw8MwyAcDrOwsMDS0hLJZJJkMrn98LIs4/P5uHXrFrt376axsZHKykpkWTbBN9sOhmGQz+eZmpri1atXPH78mOnpaT59+mRuqW2DF0WRiooK9u/fT0VFBS6XC0mSEAQBQRCK7mNBEBBFkcbGRiwWC+l0mqmpKWZnZ8lkMtsLLwgCiqLg9Xo3nO3CQdxo+/y3D7fbjdvtRlVVFEXh/v37aJpWdPAlweu6TjweJxAIsGvXLjweD5qmoev6muCFFdnoAP9XXV1dOBwOfD4foVCISCSyffD5fB5VVXn79i3RaBSPx4OqqqTTafMwAjQ0NGC327FYLIiiiMVioaqqCkVRcDqd5srY7Xaqqqo4fPgwVqu1KLxAid6mvLwcv9+P2+2msrKSr1+/Eo1GzUMniiInTpzA7XbjdDpxuVyUl5dz5swZvF4vnZ2d5t0AkM1mmZ2d5cGDB9y+fXvT2CXn+XQ6zezsLOFwGKvVas58LpcDIJfL8fnzZ+bn57Farebz6dMnGhsbuXr1Ks3NzbS0tAAgSRK1tbWUlZUVjV0yvKZphMPhTb9ZXFxc9258fJyGhgb27NmDKIp4vV5EUTQzmMPhKBp7R71NJBLh7t27PHr0iOnpaVKp1G+131H4bDZLKBRiaWmJSCSCpmm/1X7HXaWu60SjUT5+/PjbM//XjFllZSXl5eUoioIgCOi6TiwW4/v375sDyDLV1dV0dHTgcDjI5/MkEoktDeSvwBduSa/XS2VlJYIgkE6nmZ6eJh6P/9KniKKI3W6npqaGtrY27HY7uq4TiURQVXX74W02G/X19Vy/fp0rV66gKIppc/v7++nv72d8fJxEIrGubXV1NTdu3ODUqVN4PB7i8TjBYJA7d+7w4cOH7YeXJAlFUWhoaKCzsxOLxUI+nyeVSrG4uEgsFiMSibC0tEQ0GsVisWC1WvF4PDQ1NdHd3W16o3A4zOzsLJOTkywvL28/vCAIWCwW8ykMqKysjAsXLnD27FmampoYHx/n4cOHJvS1a9fYt28fJ0+eRBRFstksAwMDvHz5kmAwuP2uEn76G03TyGQyZDIZrFar6VVEUcRqtXL8+HHq6+uRJIn6+np8Ph8HDx6kpqYGSZKYm5tjamqKoaEhAoEAuq5vKXbJ8IZhoGkaq6urpFKpNT4Ffq7M0aNH8fv91NbW4vV68fl85u+6rvPlyxeePXvG8PAw8/PzW45dMnwmk2FxcZGJiQmampo4d+4cVVVV675zOBx0d3djs9nMd9FolAcPHvDixQueP39eNK0WhRcEAafTic1mw+l0mn8y5ufnyWaz69KeYRhkMhmCwSBv377lwIEDyLK8obESRRFVVfn27RuqqhIOhxkbGyMQCBT1R1uCl2WZI0eO0NrayokTJ6irq0OWZW7evEkwGPzl5TE8PMzExAQVFRV0d3fT09Oz5h9UKpVibGyMqakp3r17x+DgoDmIggMtGd5qtXLq1Cna29vp6uoyZ/DSpUtMTk4yMDCApmnrAuZyOVZXV3n9+jWGYXDs2DEURUGWf4bQNI25uTnev3/P+Pg44XCYlZUVstnsH4H/Ev7cuXO0tbWxa9cuE6y3t5fh4WFev36Nqqqsrq6uaVcoJI2MjKBpGr29vYiiaMKn02lmZmaYnJxkbGzsj4E3hd9IkiTR1taGoihIksTTp08ZHh4mmUyuOQOGYbC0tEQ4HP7jKtjvaJ2rNAyDZDJJOp1e897lctHQ0GCmvZaWljVGrPDAz0NfKIEUlMvl+PHjx7oVK0XrZj6bzTI6OoqmabS0tCCKoglRXl7OoUOHcLlcnD9/nnv37jEzM0MgEMAwDERRpL29Hb/fj8fjMbdMLpcjFovx9OlTYrHY9sKPjIyQSCRwOp34fD7q6uqw2+1mkcjj8SBJEhcvXiQSiRAKhYCfqbC2tpbm5mYkScIwDHMy3rx5Qzwe39K1/8fwmqbR39/P+/fvicfjXL58GZvNhtVqNWeyUCRqa2vbsNPCShVu3idPnjAxMUEikdhSGW+r+mXpQ1EUqquraW1tpampiZ6eHtrb2zl9+nTRTgszPjQ0xODgIH19fYRCob+6ZWCTbJNOp1lYWEBVVebm5igrKyOTybBv3z5sNhuyLCNJEpIkYbFY0DTNzP+aphGLxXj37h2jo6MEg8E/KmEXU9GiUyGLKIpCc3MzFy9exO/3s3v3btxuNxUVFbS2thIIBJienmZ5eZlgMEhfXx/fvn0jGo2i6/q2pM2ieb6Qr1dXV1leXmZsbIxQKERNTQ1OpxOHw0Ftba1ZBUgkEsRiMRYWFkgmkyXdoMVUcrlvJ7XjpY9S9A9+p/QPfqf0D36n9D8suZXzrY4iCQAAAABJRU5ErkJggg==\" y=\"-7.062069\"/>\n",
       "   </g>\n",
       "  </g>\n",
       "  <g id=\"axes_2\">\n",
       "   <g clip-path=\"url(#p48ab1a80af)\">\n",
       "    <image height=\"47\" id=\"image3372e5015e\" transform=\"scale(1 -1)translate(0 -47)\" width=\"47\" x=\"64.924138\" xlink:href=\"data:image/png;base64,\n",
       "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\" y=\"-7.062069\"/>\n",
       "   </g>\n",
       "  </g>\n",
       "  <g id=\"axes_3\">\n",
       "   <g clip-path=\"url(#p8ce627ce7e)\">\n",
       "    <image height=\"47\" id=\"image2964b81ea3\" transform=\"scale(1 -1)translate(0 -47)\" width=\"47\" x=\"122.648276\" xlink:href=\"data:image/png;base64,\n",
       "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\" y=\"-7.062069\"/>\n",
       "   </g>\n",
       "  </g>\n",
       "  <g id=\"axes_4\">\n",
       "   <g clip-path=\"url(#pad3f2dfaa1)\">\n",
       "    <image height=\"47\" id=\"imageea535f8514\" transform=\"scale(1 -1)translate(0 -47)\" width=\"47\" x=\"180.372414\" xlink:href=\"data:image/png;base64,\n",
       "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\" y=\"-7.062069\"/>\n",
       "   </g>\n",
       "  </g>\n",
       "  <g id=\"axes_5\">\n",
       "   <g clip-path=\"url(#p01559b131d)\">\n",
       "    <image height=\"47\" id=\"imagec5b1640868\" transform=\"scale(1 -1)translate(0 -47)\" width=\"47\" x=\"238.096552\" xlink:href=\"data:image/png;base64,\n",
       "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\" y=\"-7.062069\"/>\n",
       "   </g>\n",
       "  </g>\n",
       "  <g id=\"axes_6\">\n",
       "   <g clip-path=\"url(#pbed8d34b73)\">\n",
       "    <image height=\"47\" id=\"image8c6344aa64\" transform=\"scale(1 -1)translate(0 -47)\" width=\"47\" x=\"7.2\" xlink:href=\"data:image/png;base64,\n",
       "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\" y=\"-63.296552\"/>\n",
       "   </g>\n",
       "  </g>\n",
       "  <g id=\"axes_7\">\n",
       "   <g clip-path=\"url(#p9c862afabb)\">\n",
       "    <image height=\"47\" id=\"image72e4139477\" transform=\"scale(1 -1)translate(0 -47)\" width=\"47\" x=\"64.924138\" xlink:href=\"data:image/png;base64,\n",
       "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\" y=\"-63.296552\"/>\n",
       "   </g>\n",
       "  </g>\n",
       "  <g id=\"axes_8\">\n",
       "   <g clip-path=\"url(#pfc28ebd841)\">\n",
       "    <image height=\"47\" id=\"image08f4911996\" transform=\"scale(1 -1)translate(0 -47)\" width=\"47\" x=\"122.648276\" xlink:href=\"data:image/png;base64,\n",
       "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\" y=\"-63.296552\"/>\n",
       "   </g>\n",
       "  </g>\n",
       "  <g id=\"axes_9\">\n",
       "   <g clip-path=\"url(#pd4b6576b56)\">\n",
       "    <image height=\"47\" id=\"image5f111a2ed3\" transform=\"scale(1 -1)translate(0 -47)\" width=\"47\" x=\"180.372414\" xlink:href=\"data:image/png;base64,\n",
       "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\" y=\"-63.296552\"/>\n",
       "   </g>\n",
       "  </g>\n",
       "  <g id=\"axes_10\">\n",
       "   <g clip-path=\"url(#p3b351d805e)\">\n",
       "    <image height=\"47\" id=\"image0e7e540668\" transform=\"scale(1 -1)translate(0 -47)\" width=\"47\" x=\"238.096552\" xlink:href=\"data:image/png;base64,\n",
       "iVBORw0KGgoAAAANSUhEUgAAAC8AAAAvCAYAAABzJ5OsAAADK0lEQVR4nO2ZT0syXRiHrzPOmJPVlIyU2T+F/q8slwVB36Rt36Cv0odw16Z9pBVoJARFEYkiqBUZTU7jeRehvMLLu/HMYw94gZtZnN81N2fuc88oAMlfijZogX4Yyg8K3a+FNU1DCIGmaYTDYTTtp06u6/L19YXrukjZ3+Pmi3wwGMS2bSKRCNPT0xwdHZFMJgE4PT0lk8mQzWZpNBp95fgmPzs7y/LyMmtra6ysrDA3N4eUktXVVba2tigWi33Lw0+rVPqbmZmRh4eH8uTkRHqeJzu0221Zq9VksViU6XS67xzlldc0DcMwCIfDBINBhBAAvL29cXZ2xt3dHbe3t5TL5b6zlMsHAgGCwSCWZTEyMoKUEikl7+/v5HI58vk8V1dX1Ov1vrOUygshiEajbGxscHBwwNjYGAD1ep1SqcTl5SX39/dUKhU8z+s7T3nldV0nFAoRiUQwDAMpJc1mk0ajQblc5vX1le/vbzVZSlb5Dzp7HaBarfLw8MDNzQ2tVktZhm8nbOcA6uz5f19Tha/jgV/SHf7q2WYoPyiUygshSCQSLC4u9nQbv1Aqr2kaS0tLXXm/b0Bpnw8EAuzv75NKpbrzu583oazyuq5jmmZ3jv8T20ZZ5aempojFYoTD4e5YIIToOaRUo0w+Ho+TSqWwbRvTNAH/DqcOyrbNwsIC6XQa27YZHR1Vtez/Muzzg2IoD1AulykUCjQaDRzH6fZ3KSWFQoF8Pk+73VYVByjsNs/Pz7TbbWq1GtFotKfjZLNZLi4ufq/8+vo6Ozs7zM/PMz4+3r3uZ7tUJj8xMUEsFsM0TXRd75HWNK07LqjkjzywkUjEl5FBmbzrujiOg+d5PVUXQhCPx4nH48rllW2bVqvFx8cHruvieR66/rO0EIJkMsnLy8vvlc/n81QqFXZ3dwmFQti2DfzIW5bF5OTk75Wv1+s0m02enp6wLAvDMDBNE8MwcBwHx3FURXVR+jLiui7Hx8ckEgn29vbY3t5mc3OTTCZDLpdT9qWsg1J5KSWlUonPz088z+Px8ZHz83Our6+pVqsqowAQDP/KHAxD+UExlB8UQ/lB8Q8G6mQorYODhQAAAABJRU5ErkJggg==\" y=\"-63.296552\"/>\n",
       "   </g>\n",
       "  </g>\n",
       "  <g id=\"axes_11\">\n",
       "   <g clip-path=\"url(#p6e2c9b843c)\">\n",
       "    <image height=\"47\" id=\"imagec371814202\" transform=\"scale(1 -1)translate(0 -47)\" width=\"47\" x=\"7.2\" xlink:href=\"data:image/png;base64,\n",
       "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\" y=\"-119.531034\"/>\n",
       "   </g>\n",
       "  </g>\n",
       "  <g id=\"axes_12\">\n",
       "   <g clip-path=\"url(#pec79fdccb6)\">\n",
       "    <image height=\"47\" id=\"imageeba0516ef3\" transform=\"scale(1 -1)translate(0 -47)\" width=\"47\" x=\"64.924138\" xlink:href=\"data:image/png;base64,\n",
       "iVBORw0KGgoAAAANSUhEUgAAAC8AAAAvCAYAAABzJ5OsAAADxUlEQVR4nO2ZzUsqXxjHP6NpmS/5UoaQNhpBQm8QuUloVat20SboH4voPwhatGsRBREVhVjgRkSt1AxxarTBbGbu4nLjXn7BhduZ2+9CH5iFm+/3y8NzznPOUQJM/lFsnx3gI3yF/yx6RAnZbDbsdjtutxvTNNE0DV3X0XVdlMV/PUUJxWIxFhcX2d3dZWdnh6WlJWRZFiX/LsIqHwqFiMfjjI6O8vT0hKqqdDodUfLvIix8LBYjlUrhdrupVCqcnJzQ7XZFyb+LsLaRZZmFhQXcbrcoyd8irPLDw8NMTExgmt9nns1mQ5Kkt99WIKzykiS9fX19fciyjN/vFyX/LsLC67pOt9vFNE0cDgdDQ0OWt5Cw8JqmoSgKr6+vuFwupqamCIfDouTfRVj4fD7PwcEBrVZLlORvERa+XC5zdnZGu93GZrPhcDiw2aw9fQjbbUqlEpIk0Ww2iUQirK2t8fz8zPX1NZ1Ox5JdR1hpWq0W9Xqdp6cnDMNgZGSESCTC4OAgDodDlM0vCAuvKAqlUombmxuazSaxWIzp6WnS6TRer1eUzS8Ibcofp0lN0wDw+/3Iskxvb69ImzeEr6hWq0W73cY0TQYGBohGozidTtE2gODw3W6Xzc1Ntre3MQyDQCBALBb7NypvmiblcplisYiqqvT09BAOh98WrmiEt42qqtTrdbLZLAAzMzOsrq6ysrKC3W4X6mXJFNE0jVwuR6PRwG63k0gkGBsbEz60hA2pn3l+fiaXyxGPx5EkiUQigaIowsNbUvnHx0f29/fJZrPU63UikQjJZJL5+Xmi0agwH0vCv7y8UKvVqFar1Go17HY7gUCA8fFxQqGQMB9Lwuu6jqIoZDIZ9vb2UBSFUCjExsYGc3NzwnwsPfY9PDyQy+XQNA2n08no6CjBYFCYvqXh7+/vubq6ot1u43A4kGWZQCCAJElC9C0N//j4SLlc5vz8nEwmg2EYTE5Osr6+LuSWZWn4brdLu93m9vaWu7s7TNMkHA4zOzuLz+f78NCyZJ//GdM0ubi4AGB5eZlkMkkkEuHo6OhtGv/pReWvhC+VSni9XgqFAn6/H5/Ph9vtxuVyfUjb8idu0zTJ5/Nks1my2SyNRgOPx4PH46G/v/9Di/evvM+/vLygKAqXl5fc3d0hSRKpVIp0Ov2hvv8r4Q3DQNM0yuUyzWYTgGAwSCgU+v9XHr7fsA4PDykUCgBUq1UqlcqHXhUsX7A/0HUdVVU5PT1la2uL4+NjisUihmH8sabE11+Zn8NX+M/iK/xn8RX+s/gGAwV8Z9cKaCoAAAAASUVORK5CYII=\" y=\"-119.531034\"/>\n",
       "   </g>\n",
       "  </g>\n",
       "  <g id=\"axes_13\">\n",
       "   <g clip-path=\"url(#p8a7320fb95)\">\n",
       "    <image height=\"47\" id=\"image253d520479\" transform=\"scale(1 -1)translate(0 -47)\" width=\"47\" x=\"122.648276\" xlink:href=\"data:image/png;base64,\n",
       "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\" y=\"-119.531034\"/>\n",
       "   </g>\n",
       "  </g>\n",
       "  <g id=\"axes_14\">\n",
       "   <g clip-path=\"url(#p85a23e9f9a)\">\n",
       "    <image height=\"47\" id=\"imaged5a6969e99\" transform=\"scale(1 -1)translate(0 -47)\" width=\"47\" x=\"180.372414\" xlink:href=\"data:image/png;base64,\n",
       "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\" y=\"-119.531034\"/>\n",
       "   </g>\n",
       "  </g>\n",
       "  <g id=\"axes_15\">\n",
       "   <g clip-path=\"url(#pc991d07a66)\">\n",
       "    <image height=\"47\" id=\"image4fe29276b0\" transform=\"scale(1 -1)translate(0 -47)\" width=\"47\" x=\"238.096552\" xlink:href=\"data:image/png;base64,\n",
       "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\" y=\"-119.531034\"/>\n",
       "   </g>\n",
       "  </g>\n",
       "  <g id=\"axes_16\">\n",
       "   <g clip-path=\"url(#p1d97859d51)\">\n",
       "    <image height=\"47\" id=\"image9b605f71f6\" transform=\"scale(1 -1)translate(0 -47)\" width=\"47\" x=\"7.2\" xlink:href=\"data:image/png;base64,\n",
       "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\" y=\"-175.765517\"/>\n",
       "   </g>\n",
       "  </g>\n",
       "  <g id=\"axes_17\">\n",
       "   <g clip-path=\"url(#p52f4737fe0)\">\n",
       "    <image height=\"47\" id=\"imagee73d93002d\" transform=\"scale(1 -1)translate(0 -47)\" width=\"47\" x=\"64.924138\" xlink:href=\"data:image/png;base64,\n",
       "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\" y=\"-175.765517\"/>\n",
       "   </g>\n",
       "  </g>\n",
       "  <g id=\"axes_18\">\n",
       "   <g clip-path=\"url(#pe39d973656)\">\n",
       "    <image height=\"47\" id=\"image03ffcf64dc\" transform=\"scale(1 -1)translate(0 -47)\" width=\"47\" x=\"122.648276\" xlink:href=\"data:image/png;base64,\n",
       "iVBORw0KGgoAAAANSUhEUgAAAC8AAAAvCAYAAABzJ5OsAAADZklEQVR4nO2ZzUrzWhSGn6Q2aZvUamkV6w/INxAsirQgei3elxcheAOCUAQHgh1IBQciFTW21FZj0vQnbbrPQCyfB86ZdMcf8IVM9mC9Dzsra6+1owCCHyr1qwEm0S/8V2lKdsBkMkkkEkEIQa/Xo9/vy7YYS0HiB6tpGvv7+6yuruJ5HgcHBxweHtLv9xmNRrJsxpK287quk0qlWFlZ4c+fP/i+T6FQwLIsyuUyjuPIsvogIePJ5XJiZ2dHnJ+fC9d1xWg0Evf39+L09FSsr69L8fj3I23nTdMkm81iGAa6rgMwMzMDvKVTGJIGr2kapmmi6zpTU29hDcNA07TQ4KWVysFgQKfTwfd9hsOhrLD/K2nw7Xabp6cnPM8LtTz+LWlpY1kWrVYLy7KYm5vDMAxZof9TUk9YIT63x/vR7cEv/N/qdrt0u90PKRSLxYjFYrKt5Of8w8MDj4+P4zVFUVhcXGRpaQlFUWTaye0qgyDg6OiIZrPJ1tYW8XgcVVXZ3t5GVVWq1SpBEEjzk7rzQRBQKpU4OTnBdV1830dVVQqFAsViEVWVm6XSc973fV5eXqhUKjQaDVRVJZ/Ps7Gx8f3hhRD0+31qtRqu6wJvTdv09DSmaUrtc0IplZ7ncXFxQb1eRwhBJBLBNE3y+Tzz8/PSfEKr86PRaFwuVVVF13VyuRypVEqaR+iHlKIoY/iFhQWmp6elxf60EzYSiZBMJr9/zgdBgOM4HwbvaDRKLpcjk8lgGIaUyiP96gPAdV3Ozs4oFosMBgM0TSOdTrO3t0c0GqVer1OpVHh9fZ3IJ5SdHw6HNJtNPM8bf7iKoqDrOslkknQ6PR4VJ1Fo8K1WC8/zxu2AoihEo1Hi8Tizs7PfF/5drutSr9fxfT+U+KHCe55Ho9H4MJBrmjZu2CZVqPA3NzccHx9j2/Z4LZvNsrm5KWXGDRU+k8mwtrZGIpEYr72/jcFgMHH8UOGXl5fZ3d3FNE3grWmzbZtqtUqv15s4fqjwt7e3lEolHMdBCIHv+9i2zd3dnZS7nVAOqXc5joNlWbTbbRKJBJ1OB9u2eX5+lpI2ocIPh0O63S7X19fUajWazSblcpnLy0sp42Co8O9387Zto+s67Xabq6sraXOs1D8jn63fS6ev0i/8V+kX/qv0o+H/AQjZnW84AwD0AAAAAElFTkSuQmCC\" y=\"-175.765517\"/>\n",
       "   </g>\n",
       "  </g>\n",
       "  <g id=\"axes_19\">\n",
       "   <g clip-path=\"url(#pd659c1adf9)\">\n",
       "    <image height=\"47\" id=\"imagef5a8b55ce9\" transform=\"scale(1 -1)translate(0 -47)\" width=\"47\" x=\"180.372414\" xlink:href=\"data:image/png;base64,\n",
       "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\" y=\"-175.765517\"/>\n",
       "   </g>\n",
       "  </g>\n",
       "  <g id=\"axes_20\">\n",
       "   <g clip-path=\"url(#p97566b587c)\">\n",
       "    <image height=\"47\" id=\"imagef60ec16398\" transform=\"scale(1 -1)translate(0 -47)\" width=\"47\" x=\"238.096552\" xlink:href=\"data:image/png;base64,\n",
       "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\" y=\"-175.765517\"/>\n",
       "   </g>\n",
       "  </g>\n",
       "  <g id=\"axes_21\">\n",
       "   <g clip-path=\"url(#p50d78599dd)\">\n",
       "    <image height=\"47\" id=\"imagec9d9339cff\" transform=\"scale(1 -1)translate(0 -47)\" width=\"47\" x=\"7.2\" xlink:href=\"data:image/png;base64,\n",
       "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\" y=\"-232\"/>\n",
       "   </g>\n",
       "  </g>\n",
       "  <g id=\"axes_22\">\n",
       "   <g clip-path=\"url(#p2d2cf890e2)\">\n",
       "    <image height=\"47\" id=\"imagee33ee04162\" transform=\"scale(1 -1)translate(0 -47)\" width=\"47\" x=\"64.924138\" xlink:href=\"data:image/png;base64,\n",
       "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\" y=\"-232\"/>\n",
       "   </g>\n",
       "  </g>\n",
       "  <g id=\"axes_23\">\n",
       "   <g clip-path=\"url(#pbb8257692d)\">\n",
       "    <image height=\"47\" id=\"imagea6347af00c\" transform=\"scale(1 -1)translate(0 -47)\" width=\"47\" x=\"122.648276\" xlink:href=\"data:image/png;base64,\n",
       "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\" y=\"-232\"/>\n",
       "   </g>\n",
       "  </g>\n",
       "  <g id=\"axes_24\">\n",
       "   <g clip-path=\"url(#p999dbc7cc9)\">\n",
       "    <image height=\"47\" id=\"image395fc7b311\" transform=\"scale(1 -1)translate(0 -47)\" width=\"47\" x=\"180.372414\" xlink:href=\"data:image/png;base64,\n",
       "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\" y=\"-232\"/>\n",
       "   </g>\n",
       "  </g>\n",
       "  <g id=\"axes_25\">\n",
       "   <g clip-path=\"url(#p7cc1a1bb3f)\">\n",
       "    <image height=\"47\" id=\"image10d605e5c0\" transform=\"scale(1 -1)translate(0 -47)\" width=\"47\" x=\"238.096552\" xlink:href=\"data:image/png;base64,\n",
       "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\" y=\"-232\"/>\n",
       "   </g>\n",
       "  </g>\n",
       " </g>\n",
       " <defs>\n",
       "  <clipPath id=\"p62b276ae5a\">\n",
       "   <rect height=\"46.862069\" width=\"46.862069\" x=\"7.2\" y=\"7.2\"/>\n",
       "  </clipPath>\n",
       "  <clipPath id=\"p48ab1a80af\">\n",
       "   <rect height=\"46.862069\" width=\"46.862069\" x=\"64.924138\" y=\"7.2\"/>\n",
       "  </clipPath>\n",
       "  <clipPath id=\"p8ce627ce7e\">\n",
       "   <rect height=\"46.862069\" width=\"46.862069\" x=\"122.648276\" y=\"7.2\"/>\n",
       "  </clipPath>\n",
       "  <clipPath id=\"pad3f2dfaa1\">\n",
       "   <rect height=\"46.862069\" width=\"46.862069\" x=\"180.372414\" y=\"7.2\"/>\n",
       "  </clipPath>\n",
       "  <clipPath id=\"p01559b131d\">\n",
       "   <rect height=\"46.862069\" width=\"46.862069\" x=\"238.096552\" y=\"7.2\"/>\n",
       "  </clipPath>\n",
       "  <clipPath id=\"pbed8d34b73\">\n",
       "   <rect height=\"46.862069\" width=\"46.862069\" x=\"7.2\" y=\"63.434483\"/>\n",
       "  </clipPath>\n",
       "  <clipPath id=\"p9c862afabb\">\n",
       "   <rect height=\"46.862069\" width=\"46.862069\" x=\"64.924138\" y=\"63.434483\"/>\n",
       "  </clipPath>\n",
       "  <clipPath id=\"pfc28ebd841\">\n",
       "   <rect height=\"46.862069\" width=\"46.862069\" x=\"122.648276\" y=\"63.434483\"/>\n",
       "  </clipPath>\n",
       "  <clipPath id=\"pd4b6576b56\">\n",
       "   <rect height=\"46.862069\" width=\"46.862069\" x=\"180.372414\" y=\"63.434483\"/>\n",
       "  </clipPath>\n",
       "  <clipPath id=\"p3b351d805e\">\n",
       "   <rect height=\"46.862069\" width=\"46.862069\" x=\"238.096552\" y=\"63.434483\"/>\n",
       "  </clipPath>\n",
       "  <clipPath id=\"p6e2c9b843c\">\n",
       "   <rect height=\"46.862069\" width=\"46.862069\" x=\"7.2\" y=\"119.668966\"/>\n",
       "  </clipPath>\n",
       "  <clipPath id=\"pec79fdccb6\">\n",
       "   <rect height=\"46.862069\" width=\"46.862069\" x=\"64.924138\" y=\"119.668966\"/>\n",
       "  </clipPath>\n",
       "  <clipPath id=\"p8a7320fb95\">\n",
       "   <rect height=\"46.862069\" width=\"46.862069\" x=\"122.648276\" y=\"119.668966\"/>\n",
       "  </clipPath>\n",
       "  <clipPath id=\"p85a23e9f9a\">\n",
       "   <rect height=\"46.862069\" width=\"46.862069\" x=\"180.372414\" y=\"119.668966\"/>\n",
       "  </clipPath>\n",
       "  <clipPath id=\"pc991d07a66\">\n",
       "   <rect height=\"46.862069\" width=\"46.862069\" x=\"238.096552\" y=\"119.668966\"/>\n",
       "  </clipPath>\n",
       "  <clipPath id=\"p1d97859d51\">\n",
       "   <rect height=\"46.862069\" width=\"46.862069\" x=\"7.2\" y=\"175.903448\"/>\n",
       "  </clipPath>\n",
       "  <clipPath id=\"p52f4737fe0\">\n",
       "   <rect height=\"46.862069\" width=\"46.862069\" x=\"64.924138\" y=\"175.903448\"/>\n",
       "  </clipPath>\n",
       "  <clipPath id=\"pe39d973656\">\n",
       "   <rect height=\"46.862069\" width=\"46.862069\" x=\"122.648276\" y=\"175.903448\"/>\n",
       "  </clipPath>\n",
       "  <clipPath id=\"pd659c1adf9\">\n",
       "   <rect height=\"46.862069\" width=\"46.862069\" x=\"180.372414\" y=\"175.903448\"/>\n",
       "  </clipPath>\n",
       "  <clipPath id=\"p97566b587c\">\n",
       "   <rect height=\"46.862069\" width=\"46.862069\" x=\"238.096552\" y=\"175.903448\"/>\n",
       "  </clipPath>\n",
       "  <clipPath id=\"p50d78599dd\">\n",
       "   <rect height=\"46.862069\" width=\"46.862069\" x=\"7.2\" y=\"232.137931\"/>\n",
       "  </clipPath>\n",
       "  <clipPath id=\"p2d2cf890e2\">\n",
       "   <rect height=\"46.862069\" width=\"46.862069\" x=\"64.924138\" y=\"232.137931\"/>\n",
       "  </clipPath>\n",
       "  <clipPath id=\"pbb8257692d\">\n",
       "   <rect height=\"46.862069\" width=\"46.862069\" x=\"122.648276\" y=\"232.137931\"/>\n",
       "  </clipPath>\n",
       "  <clipPath id=\"p999dbc7cc9\">\n",
       "   <rect height=\"46.862069\" width=\"46.862069\" x=\"180.372414\" y=\"232.137931\"/>\n",
       "  </clipPath>\n",
       "  <clipPath id=\"p7cc1a1bb3f\">\n",
       "   <rect height=\"46.862069\" width=\"46.862069\" x=\"238.096552\" y=\"232.137931\"/>\n",
       "  </clipPath>\n",
       " </defs>\n",
       "</svg>\n"
      ],
      "text/plain": [
       "<Figure size 360x360 with 25 Axes>"
      ]
     },
     "metadata": {
      "needs_background": "light"
     },
     "output_type": "display_data"
    },
    {
     "name": "stdout",
     "output_type": "stream",
     "text": [
      "time: 1.44 s (started: 2021-08-10 13:32:42 +08:00)\n"
     ]
    }
   ],
   "source": [
    "'''\n",
    "Demonstrates how to sample and plot MNIST digits\n",
    "using Keras API\n",
    "https://github.com/PacktPublishing/Advanced-Deep-Learning-with-Keras\n",
    "'''\n",
    "\n",
    "import numpy as np\n",
    "from tensorflow.keras.datasets import mnist\n",
    "import matplotlib.pyplot as plt\n",
    "\n",
    "# load dataset\n",
    "(x_train, y_train), (x_test, y_test) = mnist.load_data()\n",
    "\n",
    "# count the number of unique train labels\n",
    "unique, counts = np.unique(y_train, return_counts=True)\n",
    "print(\"Train labels: \", dict(zip(unique, counts)))\n",
    "\n",
    "# count the number of unique test labels\n",
    "unique, counts = np.unique(y_test, return_counts=True)\n",
    "print(\"Test labels: \", dict(zip(unique, counts)))\n",
    "\n",
    "# sample 25 mnist digits from train dataset\n",
    "indexes = np.random.randint(0, x_train.shape[0], size=25)\n",
    "images = x_train[indexes]\n",
    "labels = y_train[indexes]\n",
    "\n",
    "# plot the 25 mnist digits\n",
    "plt.figure(figsize=(5,5))\n",
    "for i in range(len(indexes)):\n",
    "    plt.subplot(5, 5, i + 1)\n",
    "    image = images[i]\n",
    "    plt.imshow(image, cmap='gray')\n",
    "    plt.axis('off')\n",
    "\n",
    "plt.savefig(\"mnist-samples.png\")\n",
    "plt.show()\n",
    "plt.close('all')"
   ]
  },
  {
   "cell_type": "code",
   "execution_count": 11,
   "id": "9aa506a8",
   "metadata": {},
   "outputs": [
    {
     "data": {
      "text/plain": [
       "array([57644, 57266, 46377, 28391, 25006, 23649,  5421, 41707, 25137,\n",
       "       18805, 57306, 24848,   442, 35879, 59599, 15041, 34437, 47110,\n",
       "       38454, 13515, 27083, 38081,  1463,  2998, 35876])"
      ]
     },
     "execution_count": 11,
     "metadata": {},
     "output_type": "execute_result"
    }
   ],
   "source": [
    "indexes"
   ]
  },
  {
   "cell_type": "markdown",
   "id": "f1fea323",
   "metadata": {},
   "source": [
    "mnist.load_data() 方法很方便，因为不需要单独加载所有 70,000 个图像和标签并将它们存储在数组中。"
   ]
  },
  {
   "cell_type": "markdown",
   "id": "c4d12370",
   "metadata": {},
   "source": [
    "在讨论 MLP 分类器模型之前，必须记住，虽然 MNIST 数据由二维张量组成，但应根据输入层的类型对其进行重塑。 下图 1.3.2 显示了如何为 MLP、CNN 和 RNN 输入层重塑 3 × 3 灰度图像："
   ]
  },
  {
   "cell_type": "markdown",
   "id": "241507e4",
   "metadata": {},
   "source": [
    "![](https://tva1.sinaimg.cn/large/008i3skNgy1gtb4fa9g4vj31b00nugnt.jpg)"
   ]
  },
  {
   "cell_type": "markdown",
   "id": "c1f0212f",
   "metadata": {},
   "source": [
    "在以下部分中，将介绍 MNIST 的 MLP 分类器模型。 我们将演示如何使用 tf.keras 高效地构建、训练和验证模型。"
   ]
  },
  {
   "cell_type": "markdown",
   "id": "d63c020d",
   "metadata": {},
   "source": [
    "### MNIST 数字分类器模型"
   ]
  },
  {
   "cell_type": "markdown",
   "id": "06ffabfd",
   "metadata": {},
   "source": [
    "图 1.3.3 所示的拟议 MLP 模型可用于 MNIST 数字分类。 当暴露单元或感知器时，MLP 模型是一个全连接网络，如图 1.3.4 所示。 我们还将展示感知器的输出如何根据输入计算为第 n 个单元的权重 wi 和偏差 bn 的函数。 相应的 tf.keras 实现如清单 1.3.2 所示："
   ]
  },
  {
   "cell_type": "markdown",
   "id": "e650a1c8",
   "metadata": {},
   "source": [
    "![](https://tva1.sinaimg.cn/large/008i3skNgy1gtb4h31x9cj31c00gaabp.jpg)"
   ]
  },
  {
   "cell_type": "markdown",
   "id": "8bebd746",
   "metadata": {},
   "source": [
    "![](https://tva1.sinaimg.cn/large/008i3skNgy1gtb4hl26w8j310k0tctbg.jpg)"
   ]
  },
  {
   "cell_type": "markdown",
   "id": "1616e172",
   "metadata": {},
   "source": [
    "> 清单 1.3.2：mlp-mnist-1.3.2.py"
   ]
  },
  {
   "cell_type": "code",
   "execution_count": 7,
   "id": "cdc6a0f5",
   "metadata": {},
   "outputs": [
    {
     "name": "stdout",
     "output_type": "stream",
     "text": [
      "Model: \"sequential_2\"\n",
      "_________________________________________________________________\n",
      "Layer (type)                 Output Shape              Param #   \n",
      "=================================================================\n",
      "dense (Dense)                (None, 256)               200960    \n",
      "_________________________________________________________________\n",
      "activation (Activation)      (None, 256)               0         \n",
      "_________________________________________________________________\n",
      "dropout (Dropout)            (None, 256)               0         \n",
      "_________________________________________________________________\n",
      "dense_1 (Dense)              (None, 256)               65792     \n",
      "_________________________________________________________________\n",
      "activation_1 (Activation)    (None, 256)               0         \n",
      "_________________________________________________________________\n",
      "dropout_1 (Dropout)          (None, 256)               0         \n",
      "_________________________________________________________________\n",
      "dense_2 (Dense)              (None, 10)                2570      \n",
      "_________________________________________________________________\n",
      "activation_2 (Activation)    (None, 10)                0         \n",
      "=================================================================\n",
      "Total params: 269,322\n",
      "Trainable params: 269,322\n",
      "Non-trainable params: 0\n",
      "_________________________________________________________________\n",
      "time: 460 ms (started: 2021-08-10 13:33:12 +08:00)\n"
     ]
    }
   ],
   "source": [
    "'''\n",
    "A MLP network for MNIST digits classification\n",
    "\n",
    "98.3% test accuracy in 20epochs\n",
    "\n",
    "https://github.com/PacktPublishing/Advanced-Deep-Learning-with-Keras\n",
    "'''\n",
    "\n",
    "import numpy as np\n",
    "from tensorflow.keras.models import Sequential\n",
    "from tensorflow.keras.layers import Dense, Activation, Dropout\n",
    "from tensorflow.keras.utils import to_categorical, plot_model\n",
    "from tensorflow.keras.datasets import mnist\n",
    "\n",
    "# load mnist dataset\n",
    "(x_train, y_train), (x_test, y_test) = mnist.load_data()\n",
    "\n",
    "# compute the number of labels\n",
    "num_labels = len(np.unique(y_train))\n",
    "\n",
    "# convert to one-hot vector\n",
    "y_train = to_categorical(y_train)\n",
    "y_test = to_categorical(y_test)\n",
    "\n",
    "# image dimensions (assumed square)\n",
    "image_size = x_train.shape[1]\n",
    "input_size = image_size * image_size\n",
    "\n",
    "# resize and normalize\n",
    "x_train = np.reshape(x_train, [-1, input_size])\n",
    "x_train = x_train.astype('float32') / 255\n",
    "x_test = np.reshape(x_test, [-1, input_size])\n",
    "x_test = x_test.astype('float32') / 255\n",
    "\n",
    "# network parameters\n",
    "batch_size = 128\n",
    "hidden_units = 256\n",
    "dropout = 0.45\n",
    "\n",
    "# model is a 3-layer MLP with ReLU and dropout after each layer\n",
    "model = Sequential()\n",
    "model.add(Dense(hidden_units, input_dim=input_size))\n",
    "model.add(Activation('relu'))\n",
    "model.add(Dropout(dropout))\n",
    "model.add(Dense(hidden_units))\n",
    "model.add(Activation('relu'))\n",
    "model.add(Dropout(dropout))\n",
    "model.add(Dense(num_labels))\n",
    "# this is the output for one-hot vector\n",
    "model.add(Activation('softmax'))\n",
    "model.summary()"
   ]
  },
  {
   "cell_type": "code",
   "execution_count": 15,
   "id": "553706f5",
   "metadata": {},
   "outputs": [
    {
     "name": "stdout",
     "output_type": "stream",
     "text": [
      "Model: \"sequential\"\n",
      "_________________________________________________________________\n",
      "Layer (type)                 Output Shape              Param #   \n",
      "=================================================================\n",
      "dense (Dense)                (None, 256)               200960    \n",
      "_________________________________________________________________\n",
      "activation (Activation)      (None, 256)               0         \n",
      "_________________________________________________________________\n",
      "dropout (Dropout)            (None, 256)               0         \n",
      "_________________________________________________________________\n",
      "dense_1 (Dense)              (None, 256)               65792     \n",
      "_________________________________________________________________\n",
      "activation_1 (Activation)    (None, 256)               0         \n",
      "_________________________________________________________________\n",
      "dropout_1 (Dropout)          (None, 256)               0         \n",
      "_________________________________________________________________\n",
      "dense_2 (Dense)              (None, 10)                2570      \n",
      "_________________________________________________________________\n",
      "activation_2 (Activation)    (None, 10)                0         \n",
      "=================================================================\n",
      "Total params: 269,322\n",
      "Trainable params: 269,322\n",
      "Non-trainable params: 0\n",
      "_________________________________________________________________\n",
      "Epoch 1/20\n",
      "469/469 [==============================] - 8s 13ms/step - loss: 0.4286 - accuracy: 0.8686\n",
      "Epoch 2/20\n",
      "469/469 [==============================] - 6s 13ms/step - loss: 0.1970 - accuracy: 0.9416\n",
      "Epoch 3/20\n",
      "469/469 [==============================] - 6s 13ms/step - loss: 0.1524 - accuracy: 0.9542\n",
      "Epoch 4/20\n",
      "469/469 [==============================] - 6s 13ms/step - loss: 0.1276 - accuracy: 0.9613\n",
      "Epoch 5/20\n",
      "469/469 [==============================] - 6s 13ms/step - loss: 0.1152 - accuracy: 0.9645\n",
      "Epoch 6/20\n",
      "469/469 [==============================] - 6s 13ms/step - loss: 0.1038 - accuracy: 0.9676\n",
      "Epoch 7/20\n",
      "469/469 [==============================] - 6s 13ms/step - loss: 0.0952 - accuracy: 0.9707\n",
      "Epoch 8/20\n",
      "469/469 [==============================] - 6s 13ms/step - loss: 0.0900 - accuracy: 0.9720\n",
      "Epoch 9/20\n",
      "469/469 [==============================] - 6s 13ms/step - loss: 0.0807 - accuracy: 0.9746\n",
      "Epoch 10/20\n",
      "469/469 [==============================] - 6s 13ms/step - loss: 0.0768 - accuracy: 0.9765\n",
      "Epoch 11/20\n",
      "469/469 [==============================] - 6s 13ms/step - loss: 0.0737 - accuracy: 0.9765\n",
      "Epoch 12/20\n",
      "469/469 [==============================] - 6s 13ms/step - loss: 0.0695 - accuracy: 0.9778\n",
      "Epoch 13/20\n",
      "469/469 [==============================] - 6s 13ms/step - loss: 0.0685 - accuracy: 0.9779\n",
      "Epoch 14/20\n",
      "469/469 [==============================] - 6s 13ms/step - loss: 0.0640 - accuracy: 0.9795\n",
      "Epoch 15/20\n",
      "469/469 [==============================] - 6s 13ms/step - loss: 0.0625 - accuracy: 0.9797\n",
      "Epoch 16/20\n",
      "469/469 [==============================] - 6s 13ms/step - loss: 0.0605 - accuracy: 0.9806\n",
      "Epoch 17/20\n",
      "469/469 [==============================] - 6s 13ms/step - loss: 0.0561 - accuracy: 0.9817\n",
      "Epoch 18/20\n",
      "469/469 [==============================] - 6s 13ms/step - loss: 0.0565 - accuracy: 0.9815\n",
      "Epoch 19/20\n",
      "469/469 [==============================] - 6s 13ms/step - loss: 0.0547 - accuracy: 0.9827\n",
      "Epoch 20/20\n",
      "469/469 [==============================] - 6s 13ms/step - loss: 0.0534 - accuracy: 0.9826\n",
      "\n",
      "Test accuracy: 98.2%\n",
      "time: 2min 8s (started: 2021-08-10 03:04:01 +08:00)\n"
     ]
    }
   ],
   "source": [
    "#\n",
    "# enable this if pydot can be installed\n",
    "# pip install pydot\n",
    "#plot_model(model, to_file='mlp-mnist.png', show_shapes=True)\n",
    "\n",
    "# loss function for one-hot vector\n",
    "# use of adam optimizer\n",
    "# accuracy is good metric for classification tasks\n",
    "model.compile(loss='categorical_crossentropy',\n",
    "              optimizer='adam',\n",
    "              metrics=['accuracy'])\n",
    "# train the network\n",
    "model.fit(x_train, y_train, epochs=20, batch_size=batch_size)\n",
    "\n",
    "# validate the model on test dataset to determine generalization\n",
    "_, acc = model.evaluate(x_test,\n",
    "                        y_test,\n",
    "                        batch_size=batch_size,\n",
    "                        verbose=0)\n",
    "print(\"\\nTest accuracy: %.1f%%\" % (100.0 * acc))"
   ]
  },
  {
   "cell_type": "code",
   "execution_count": null,
   "id": "d56c8b21",
   "metadata": {},
   "outputs": [],
   "source": [
    "采用混合精度："
   ]
  },
  {
   "cell_type": "code",
   "execution_count": 16,
   "id": "234724ed",
   "metadata": {},
   "outputs": [
    {
     "name": "stdout",
     "output_type": "stream",
     "text": [
      "INFO:tensorflow:Mixed precision compatibility check (mixed_float16): OK\n",
      "Your GPUs will likely run quickly with dtype policy mixed_float16 as they all have compute capability of at least 7.0\n",
      "Model: \"sequential_1\"\n",
      "_________________________________________________________________\n",
      "Layer (type)                 Output Shape              Param #   \n",
      "=================================================================\n",
      "dense_3 (Dense)              (None, 256)               200960    \n",
      "_________________________________________________________________\n",
      "activation_3 (Activation)    (None, 256)               0         \n",
      "_________________________________________________________________\n",
      "dropout_2 (Dropout)          (None, 256)               0         \n",
      "_________________________________________________________________\n",
      "dense_4 (Dense)              (None, 256)               65792     \n",
      "_________________________________________________________________\n",
      "activation_4 (Activation)    (None, 256)               0         \n",
      "_________________________________________________________________\n",
      "dropout_3 (Dropout)          (None, 256)               0         \n",
      "_________________________________________________________________\n",
      "dense_5 (Dense)              (None, 10)                2570      \n",
      "_________________________________________________________________\n",
      "activation_5 (Activation)    (None, 10)                0         \n",
      "=================================================================\n",
      "Total params: 269,322\n",
      "Trainable params: 269,322\n",
      "Non-trainable params: 0\n",
      "_________________________________________________________________\n",
      "Epoch 1/20\n",
      "469/469 [==============================] - 9s 18ms/step - loss: 0.4338 - accuracy: 0.8666\n",
      "Epoch 2/20\n",
      "469/469 [==============================] - 9s 18ms/step - loss: 0.1940 - accuracy: 0.9416\n",
      "Epoch 3/20\n",
      "469/469 [==============================] - 8s 18ms/step - loss: 0.1534 - accuracy: 0.9536\n",
      "Epoch 4/20\n",
      "469/469 [==============================] - 8s 18ms/step - loss: 0.1293 - accuracy: 0.9610\n",
      "Epoch 5/20\n",
      "469/469 [==============================] - 8s 18ms/step - loss: 0.1128 - accuracy: 0.9656\n",
      "Epoch 6/20\n",
      "469/469 [==============================] - 9s 18ms/step - loss: 0.1021 - accuracy: 0.9684\n",
      "Epoch 7/20\n",
      "469/469 [==============================] - 8s 18ms/step - loss: 0.0952 - accuracy: 0.9697\n",
      "Epoch 8/20\n",
      "469/469 [==============================] - 9s 18ms/step - loss: 0.0858 - accuracy: 0.9733\n",
      "Epoch 9/20\n",
      "469/469 [==============================] - 8s 18ms/step - loss: 0.0848 - accuracy: 0.9729\n",
      "Epoch 10/20\n",
      "469/469 [==============================] - 8s 18ms/step - loss: 0.0784 - accuracy: 0.9751\n",
      "Epoch 11/20\n",
      "469/469 [==============================] - 8s 18ms/step - loss: 0.0744 - accuracy: 0.9759\n",
      "Epoch 12/20\n",
      "469/469 [==============================] - 8s 18ms/step - loss: 0.0705 - accuracy: 0.9777\n",
      "Epoch 13/20\n",
      "469/469 [==============================] - 8s 18ms/step - loss: 0.0698 - accuracy: 0.9781\n",
      "Epoch 14/20\n",
      "469/469 [==============================] - 8s 18ms/step - loss: 0.0665 - accuracy: 0.9787\n",
      "Epoch 15/20\n",
      "469/469 [==============================] - 8s 18ms/step - loss: 0.0643 - accuracy: 0.9794\n",
      "Epoch 16/20\n",
      "469/469 [==============================] - 8s 18ms/step - loss: 0.0587 - accuracy: 0.9811\n",
      "Epoch 17/20\n",
      "469/469 [==============================] - 8s 18ms/step - loss: 0.0616 - accuracy: 0.9803\n",
      "Epoch 18/20\n",
      "469/469 [==============================] - 8s 18ms/step - loss: 0.0576 - accuracy: 0.9808\n",
      "Epoch 19/20\n",
      "469/469 [==============================] - 8s 18ms/step - loss: 0.0558 - accuracy: 0.9818\n",
      "Epoch 20/20\n",
      "469/469 [==============================] - 8s 18ms/step - loss: 0.0544 - accuracy: 0.9826\n",
      "\n",
      "Test accuracy: 98.3%\n",
      "time: 2min 51s (started: 2021-08-10 03:07:11 +08:00)\n"
     ]
    }
   ],
   "source": [
    "'''\n",
    "A MLP network for MNIST digits classification\n",
    "\n",
    "98.3% test accuracy in 20epochs\n",
    "\n",
    "https://github.com/PacktPublishing/Advanced-Deep-Learning-with-Keras\n",
    "'''\n",
    "\n",
    "import numpy as np\n",
    "from tensorflow.keras.models import Sequential\n",
    "from tensorflow.keras.layers import Dense, Activation, Dropout\n",
    "from tensorflow.keras.utils import to_categorical, plot_model\n",
    "from tensorflow.keras.datasets import mnist\n",
    "\n",
    "from tensorflow import keras\n",
    "keras.mixed_precision.set_global_policy(\"mixed_float16\")\n",
    "\n",
    "# load mnist dataset\n",
    "(x_train, y_train), (x_test, y_test) = mnist.load_data()\n",
    "\n",
    "# compute the number of labels\n",
    "num_labels = len(np.unique(y_train))\n",
    "\n",
    "# convert to one-hot vector\n",
    "y_train = to_categorical(y_train)\n",
    "y_test = to_categorical(y_test)\n",
    "\n",
    "# image dimensions (assumed square)\n",
    "image_size = x_train.shape[1]\n",
    "input_size = image_size * image_size\n",
    "\n",
    "# resize and normalize\n",
    "x_train = np.reshape(x_train, [-1, input_size])\n",
    "x_train = x_train.astype('float32') / 255\n",
    "x_test = np.reshape(x_test, [-1, input_size])\n",
    "x_test = x_test.astype('float32') / 255\n",
    "\n",
    "# network parameters\n",
    "batch_size = 128\n",
    "hidden_units = 256\n",
    "dropout = 0.45\n",
    "\n",
    "# model is a 3-layer MLP with ReLU and dropout after each layer\n",
    "model = Sequential()\n",
    "model.add(Dense(hidden_units, input_dim=input_size))\n",
    "model.add(Activation('relu'))\n",
    "model.add(Dropout(dropout))\n",
    "model.add(Dense(hidden_units))\n",
    "model.add(Activation('relu'))\n",
    "model.add(Dropout(dropout))\n",
    "model.add(Dense(num_labels))\n",
    "# this is the output for one-hot vector\n",
    "model.add(Activation('softmax'))\n",
    "model.summary()\n",
    "#\n",
    "# enable this if pydot can be installed\n",
    "# pip install pydot\n",
    "#plot_model(model, to_file='mlp-mnist.png', show_shapes=True)\n",
    "\n",
    "# loss function for one-hot vector\n",
    "# use of adam optimizer\n",
    "# accuracy is good metric for classification tasks\n",
    "model.compile(loss='categorical_crossentropy',\n",
    "              optimizer='adam',\n",
    "              metrics=['accuracy'])\n",
    "# train the network\n",
    "model.fit(x_train, y_train, epochs=20, batch_size=batch_size)\n",
    "\n",
    "# validate the model on test dataset to determine generalization\n",
    "_, acc = model.evaluate(x_test,\n",
    "                        y_test,\n",
    "                        batch_size=batch_size,\n",
    "                        verbose=0)\n",
    "print(\"\\nTest accuracy: %.1f%%\" % (100.0 * acc))"
   ]
  },
  {
   "cell_type": "markdown",
   "id": "1c77df6d",
   "metadata": {},
   "source": [
    "> 似乎用了混合精度后，反而变慢了！"
   ]
  },
  {
   "cell_type": "code",
   "execution_count": null,
   "id": "49255ac2",
   "metadata": {},
   "outputs": [],
   "source": [
    "直接用1,2等作为label:"
   ]
  },
  {
   "cell_type": "code",
   "execution_count": 21,
   "id": "a3d9e8a0",
   "metadata": {},
   "outputs": [
    {
     "name": "stdout",
     "output_type": "stream",
     "text": [
      "Model: \"sequential_5\"\n",
      "_________________________________________________________________\n",
      "Layer (type)                 Output Shape              Param #   \n",
      "=================================================================\n",
      "dense_15 (Dense)             (None, 256)               200960    \n",
      "_________________________________________________________________\n",
      "activation_15 (Activation)   (None, 256)               0         \n",
      "_________________________________________________________________\n",
      "dropout_10 (Dropout)         (None, 256)               0         \n",
      "_________________________________________________________________\n",
      "dense_16 (Dense)             (None, 256)               65792     \n",
      "_________________________________________________________________\n",
      "activation_16 (Activation)   (None, 256)               0         \n",
      "_________________________________________________________________\n",
      "dropout_11 (Dropout)         (None, 256)               0         \n",
      "_________________________________________________________________\n",
      "dense_17 (Dense)             (None, 10)                2570      \n",
      "_________________________________________________________________\n",
      "activation_17 (Activation)   (None, 10)                0         \n",
      "=================================================================\n",
      "Total params: 269,322\n",
      "Trainable params: 269,322\n",
      "Non-trainable params: 0\n",
      "_________________________________________________________________\n",
      "Epoch 1/30\n",
      "469/469 [==============================] - 7s 13ms/step - loss: 8.2153 - accuracy: 0.5494\n",
      "Epoch 2/30\n",
      "469/469 [==============================] - 6s 13ms/step - loss: 1.2062 - accuracy: 0.6690\n",
      "Epoch 3/30\n",
      "469/469 [==============================] - 6s 13ms/step - loss: 1.0111 - accuracy: 0.7293\n",
      "Epoch 4/30\n",
      "469/469 [==============================] - 6s 13ms/step - loss: 0.8725 - accuracy: 0.7677\n",
      "Epoch 5/30\n",
      "469/469 [==============================] - 6s 13ms/step - loss: 0.7659 - accuracy: 0.8021\n",
      "Epoch 6/30\n",
      "469/469 [==============================] - 6s 13ms/step - loss: 0.6684 - accuracy: 0.8284\n",
      "Epoch 7/30\n",
      "469/469 [==============================] - 6s 13ms/step - loss: 0.5939 - accuracy: 0.8466\n",
      "Epoch 8/30\n",
      "469/469 [==============================] - 6s 13ms/step - loss: 0.5182 - accuracy: 0.8651\n",
      "Epoch 9/30\n",
      "469/469 [==============================] - 6s 13ms/step - loss: 0.4646 - accuracy: 0.8778\n",
      "Epoch 10/30\n",
      "469/469 [==============================] - 6s 13ms/step - loss: 0.4353 - accuracy: 0.8885\n",
      "Epoch 11/30\n",
      "469/469 [==============================] - 6s 13ms/step - loss: 0.4077 - accuracy: 0.8928\n",
      "Epoch 12/30\n",
      "469/469 [==============================] - 6s 13ms/step - loss: 0.3832 - accuracy: 0.8999\n",
      "Epoch 13/30\n",
      "469/469 [==============================] - 6s 13ms/step - loss: 0.3675 - accuracy: 0.9044\n",
      "Epoch 14/30\n",
      "469/469 [==============================] - 6s 13ms/step - loss: 0.3496 - accuracy: 0.9081\n",
      "Epoch 15/30\n",
      "469/469 [==============================] - 6s 13ms/step - loss: 0.3440 - accuracy: 0.9102\n",
      "Epoch 16/30\n",
      "469/469 [==============================] - 6s 13ms/step - loss: 0.3291 - accuracy: 0.9146\n",
      "Epoch 17/30\n",
      "469/469 [==============================] - 6s 13ms/step - loss: 0.3220 - accuracy: 0.9168\n",
      "Epoch 18/30\n",
      "469/469 [==============================] - 6s 13ms/step - loss: 0.3129 - accuracy: 0.9184\n",
      "Epoch 19/30\n",
      "469/469 [==============================] - 6s 13ms/step - loss: 0.3101 - accuracy: 0.9211\n",
      "Epoch 20/30\n",
      "469/469 [==============================] - 6s 13ms/step - loss: 0.3053 - accuracy: 0.9212\n",
      "Epoch 21/30\n",
      "469/469 [==============================] - 6s 13ms/step - loss: 0.2995 - accuracy: 0.9241\n",
      "Epoch 22/30\n",
      "469/469 [==============================] - 6s 13ms/step - loss: 0.2946 - accuracy: 0.9253\n",
      "Epoch 23/30\n",
      "469/469 [==============================] - 6s 13ms/step - loss: 0.2832 - accuracy: 0.9271\n",
      "Epoch 24/30\n",
      "469/469 [==============================] - 6s 13ms/step - loss: 0.2846 - accuracy: 0.9266\n",
      "Epoch 25/30\n",
      "469/469 [==============================] - 6s 13ms/step - loss: 0.2761 - accuracy: 0.9305\n",
      "Epoch 26/30\n",
      "469/469 [==============================] - 6s 13ms/step - loss: 0.2711 - accuracy: 0.9308\n",
      "Epoch 27/30\n",
      "469/469 [==============================] - 6s 13ms/step - loss: 0.2714 - accuracy: 0.9298\n",
      "Epoch 28/30\n",
      "469/469 [==============================] - 6s 13ms/step - loss: 0.2656 - accuracy: 0.9321\n",
      "Epoch 29/30\n",
      "469/469 [==============================] - 6s 13ms/step - loss: 0.2704 - accuracy: 0.9300\n",
      "Epoch 30/30\n",
      "469/469 [==============================] - 6s 13ms/step - loss: 0.2621 - accuracy: 0.9329\n",
      "\n",
      "Test accuracy: 95.7%\n",
      "time: 3min 2s (started: 2021-08-10 03:23:04 +08:00)\n"
     ]
    }
   ],
   "source": [
    "'''\n",
    "A MLP network for MNIST digits classification\n",
    "\n",
    "98.3% test accuracy in 20epochs\n",
    "\n",
    "https://github.com/PacktPublishing/Advanced-Deep-Learning-with-Keras\n",
    "'''\n",
    "\n",
    "import numpy as np\n",
    "from tensorflow.keras.models import Sequential\n",
    "from tensorflow.keras.layers import Dense, Activation, Dropout\n",
    "from tensorflow.keras.utils import to_categorical, plot_model\n",
    "from tensorflow.keras.datasets import mnist\n",
    "\n",
    "# load mnist dataset\n",
    "(x_train, y_train), (x_test, y_test) = mnist.load_data()\n",
    "\n",
    "# compute the number of labels\n",
    "num_labels = len(np.unique(y_train))\n",
    "\n",
    "# convert to one-hot vector\n",
    "#y_train = to_categorical(y_train)\n",
    "#y_test = to_categorical(y_test)\n",
    "\n",
    "# image dimensions (assumed square)\n",
    "image_size = x_train.shape[1]\n",
    "input_size = image_size * image_size\n",
    "\n",
    "# resize and normalize\n",
    "x_train = np.reshape(x_train, [-1, input_size])\n",
    "x_train = x_train.astype('float32') / 255\n",
    "x_test = np.reshape(x_test, [-1, input_size])\n",
    "x_test = x_test.astype('float32') / 255\n",
    "\n",
    "# network parameters\n",
    "batch_size = 128\n",
    "hidden_units = 256\n",
    "dropout = 0.45\n",
    "\n",
    "# model is a 3-layer MLP with ReLU and dropout after each layer\n",
    "model = Sequential()\n",
    "model.add(Dense(hidden_units, input_dim=input_size))\n",
    "model.add(Activation('relu'))\n",
    "model.add(Dropout(dropout))\n",
    "model.add(Dense(hidden_units))\n",
    "model.add(Activation('relu'))\n",
    "model.add(Dropout(dropout))\n",
    "model.add(Dense(num_labels))\n",
    "# this is the output for one-hot vector\n",
    "model.add(Activation('softmax'))\n",
    "model.summary()\n",
    "#\n",
    "# enable this if pydot can be installed\n",
    "# pip install pydot\n",
    "#plot_model(model, to_file='mlp-mnist.png', show_shapes=True)\n",
    "\n",
    "# loss function for one-hot vector\n",
    "# use of adam optimizer\n",
    "# accuracy is good metric for classification tasks\n",
    "model.compile(loss='sparse_categorical_crossentropy',\n",
    "              optimizer='adam',\n",
    "              metrics=['accuracy'])\n",
    "# train the network\n",
    "model.fit(x_train, y_train, epochs=30, batch_size=batch_size)\n",
    "\n",
    "# validate the model on test dataset to determine generalization\n",
    "_, acc = model.evaluate(x_test,\n",
    "                        y_test,\n",
    "                        batch_size=batch_size,\n",
    "                        verbose=0)\n",
    "print(\"\\nTest accuracy: %.1f%%\" % (100.0 * acc))"
   ]
  },
  {
   "cell_type": "markdown",
   "id": "4ec68eb3",
   "metadata": {},
   "source": [
    "在讨论模型实现之前，数据必须采用正确的形状和格式。 加载 MNIST 数据集后，标签数量计算如下："
   ]
  },
  {
   "cell_type": "code",
   "execution_count": null,
   "id": "580eef1c",
   "metadata": {},
   "outputs": [],
   "source": [
    "# compute the number of labels\n",
    "num_labels = len(np.unique(y_train))"
   ]
  },
  {
   "cell_type": "markdown",
   "id": "d7de0da8",
   "metadata": {},
   "source": [
    "硬编码 num_labels = 10 也是一种选择。 但是，让计算机完成它的工作总是一个好习惯。 代码假设 y_train 的标签为 0 到 9。"
   ]
  },
  {
   "cell_type": "markdown",
   "id": "d012dbb4",
   "metadata": {},
   "source": [
    "此时，标签是数字格式，即从 0 到 9。标签的这种稀疏标量表示不适用于输出每个类的概率的神经网络预测层。 更合适的格式称为 one-hot 向量，一个 10 维向量，除数字类的索引外，所有元素均为 0。 例如，如果标签为 2，则等效的 one-hot 向量为 [0,0,1,0,0,0,0,0,0,0]。 第一个标签的索引为 0。"
   ]
  },
  {
   "cell_type": "markdown",
   "id": "8c5b162f",
   "metadata": {},
   "source": [
    "以下几行将每个标签转换为一个独热向量："
   ]
  },
  {
   "cell_type": "code",
   "execution_count": null,
   "id": "7f122d8f",
   "metadata": {},
   "outputs": [],
   "source": [
    "# convert to one-hot vector\n",
    "y_train = to_categorical(y_train)\n",
    "y_test = to_categorical(y_test)"
   ]
  },
  {
   "cell_type": "markdown",
   "id": "2e38c4b7",
   "metadata": {},
   "source": [
    "在深度学习中，数据存储在张量中。 术语张量适用于标量（0D 张量）、向量（1D 张量）、矩阵（二维张量）和多维张量。\n",
    "\n",
    "从这一点来看，除非标量、向量或矩阵使解释更清晰，否则使用术语张量。"
   ]
  },
  {
   "cell_type": "markdown",
   "id": "9d2959f8",
   "metadata": {},
   "source": [
    "如下所示的其余代码计算图像尺寸、第一个密集层的 input_size 值，并将每个像素值从 0 到 255 缩放到从 0.0 到 1.0 的范围。 虽然可以直接使用原始像素值，但最好对输入数据进行归一化，以避免可能导致训练困难的大梯度值。 网络的输出也被归一化。 训练后，可以选择通过将输出张量乘以 255 将所有内容恢复为整数像素值。"
   ]
  },
  {
   "cell_type": "markdown",
   "id": "a97c326f",
   "metadata": {},
   "source": [
    "所提出的模型基于 MLP 层。 因此，输入预计为一维张量。 因此，x_train 和 x_test 分别被重塑为 [60,000, 28 * 28] 和 [10,000, 28 * 28]。 在 NumPy 中，大小为 -1 意味着让库计算正确的维度。 对于 x_train，这是 60,000。"
   ]
  },
  {
   "cell_type": "code",
   "execution_count": null,
   "id": "cf2ac71f",
   "metadata": {},
   "outputs": [],
   "source": [
    "# image dimensions (assumed square) 400\n",
    "image_size = x_train.shape[1]\n",
    "input_size = image_size * image_size\n",
    "# resize and normalize\n",
    "x_train = np.reshape(x_train, [-1, input_size])\n",
    "x_train = x_train.astype('float32') / 255\n",
    "x_test = np.reshape(x_test, [-1, input_size])\n",
    "x_test = x_test.astype('float32') / 255"
   ]
  },
  {
   "cell_type": "markdown",
   "id": "460c11a4",
   "metadata": {},
   "source": [
    "准备好数据集后，下面重点介绍使用 Keras 的 Sequential API 构建 MLP 分类器模型。"
   ]
  },
  {
   "cell_type": "markdown",
   "id": "76c2b8e8",
   "metadata": {},
   "source": [
    "### 使用 MLP 和 Keras 构建模型"
   ]
  },
  {
   "cell_type": "markdown",
   "id": "e0bb5df3",
   "metadata": {},
   "source": [
    "由三个 MLP 层组成。 在 Keras 中，MLP 层被称为密集层，它代表密集连接层。 第一层和第二层 MLP 层本质上是相同的，每个层都有 256 个单元，然后是整流线性单元 (ReLU) 激活和删除。 选择了 256 个单元，因为 128、512 和 1,024 个单元的性能指标较低。 在 128 个单元时，网络收敛速度很快，但测试精度较低。 512 或 1,024 的额外单元数不会显着提高测试精度。"
   ]
  },
  {
   "cell_type": "markdown",
   "id": "de55e680",
   "metadata": {},
   "source": [
    "单位数是一个超参数。 它控制网络的容量。 容量是网络可以近似的函数复杂度的度量。 例如，对于多项式，度数就是超参数。 随着度数的增加，函数的容量也会增加。"
   ]
  },
  {
   "cell_type": "markdown",
   "id": "e94a08d4",
   "metadata": {},
   "source": [
    "Keras 的顺序 API。 如果模型需要由一系列层处理的一个输入和一个输出，这就足够了。 为简单起见，我们暂时使用它； 然而，在第 2 章“深度神经网络”中，将引入 Keras 的功能 API 来实现需要更复杂结构（例如多输入和多输出）的高级深度学习模型。"
   ]
  },
  {
   "cell_type": "code",
   "execution_count": 8,
   "id": "c36c4199",
   "metadata": {},
   "outputs": [
    {
     "name": "stdout",
     "output_type": "stream",
     "text": [
      "time: 40.1 ms (started: 2021-08-10 13:33:22 +08:00)\n"
     ]
    }
   ],
   "source": [
    "from tensorflow.keras import Sequential\n",
    "from tensorflow.keras.layers import Dense, Activation, Dropout\n",
    "\n",
    "# model is a 3-layer MLP with ReLU and dropout after each layer\n",
    "model = Sequential()\n",
    "model.add(Dense(hidden_units, input_dim=input_size))\n",
    "model.add(Activation('relu'))\n",
    "model.add(Dropout(dropout))\n",
    "model.add(Dense(hidden_units))\n",
    "model.add(Activation('relu'))\n",
    "model.add(Dropout(dropout))\n",
    "model.add(Dense(num_labels))\n",
    "# this is the output for one-hot vector model.\n",
    "model.add(Activation('softmax'))"
   ]
  },
  {
   "cell_type": "code",
   "execution_count": 9,
   "id": "2fcbaa0b",
   "metadata": {},
   "outputs": [
    {
     "name": "stdout",
     "output_type": "stream",
     "text": [
      "Model: \"sequential_3\"\n",
      "_________________________________________________________________\n",
      "Layer (type)                 Output Shape              Param #   \n",
      "=================================================================\n",
      "dense_3 (Dense)              (None, 256)               200960    \n",
      "_________________________________________________________________\n",
      "activation_3 (Activation)    (None, 256)               0         \n",
      "_________________________________________________________________\n",
      "dropout_2 (Dropout)          (None, 256)               0         \n",
      "_________________________________________________________________\n",
      "dense_4 (Dense)              (None, 256)               65792     \n",
      "_________________________________________________________________\n",
      "activation_4 (Activation)    (None, 256)               0         \n",
      "_________________________________________________________________\n",
      "dropout_3 (Dropout)          (None, 256)               0         \n",
      "_________________________________________________________________\n",
      "dense_5 (Dense)              (None, 10)                2570      \n",
      "_________________________________________________________________\n",
      "activation_5 (Activation)    (None, 10)                0         \n",
      "=================================================================\n",
      "Total params: 269,322\n",
      "Trainable params: 269,322\n",
      "Non-trainable params: 0\n",
      "_________________________________________________________________\n",
      "time: 5.26 ms (started: 2021-08-10 13:33:31 +08:00)\n"
     ]
    }
   ],
   "source": [
    "model.summary()"
   ]
  },
  {
   "cell_type": "markdown",
   "id": "47b9ab95",
   "metadata": {},
   "source": [
    "由于 Dense 层是线性运算，因此 Dense 层序列只能近似线性函数。 问题在于 MNIST 数字分类本质上是一个非线性过程。 在 Dense 层之间插入 relu 激活将使 MLP 网络能够对非线性映射进行建模。 relu 或 ReLU 是一个简单的非线性函数。 它非常像一个过滤器，它允许正输入不变地通过，同时将其他一切都钳位为零。 在数学上，relu 用以下等式表示，并绘制在图 1.3.5 中："
   ]
  },
  {
   "cell_type": "markdown",
   "id": "3c6a7613",
   "metadata": {},
   "source": [
    "![](https://tva1.sinaimg.cn/large/008i3skNgy1gtbok4c0goj312y0osmyq.jpg)"
   ]
  },
  {
   "cell_type": "markdown",
   "id": "5e70947e",
   "metadata": {},
   "source": [
    "还有其他非线性函数可以使用，例如 elu、selu、softplus、sigmoid 和 tanh。 然而，relu 是最常用的函数，并且由于其简单性而具有计算效率。 sigmoid 和 tanh 函数用作输出层中的激活函数，将在后面介绍。 表 1.3.1 显示了每个激活函数的方程："
   ]
  },
  {
   "cell_type": "markdown",
   "id": "31062fa0",
   "metadata": {},
   "source": [
    "![](https://tva1.sinaimg.cn/large/008i3skNgy1gtboxl2sn1j318y0rsadh.jpg)"
   ]
  },
  {
   "cell_type": "markdown",
   "id": "101317cd",
   "metadata": {},
   "source": [
    "尽管我们已经完成了 MLP 分类器模型的关键层，但我们还没有解决泛化或模型在训练数据集之外执行的能力的问题。 为了解决这个问题，我们将在下一节介绍正则化。"
   ]
  },
  {
   "cell_type": "markdown",
   "id": "2082609c",
   "metadata": {},
   "source": [
    "### 正则化"
   ]
  },
  {
   "cell_type": "markdown",
   "id": "ca274a70",
   "metadata": {},
   "source": [
    "神经网络倾向于记住其训练数据，尤其是当它包含足够多的容量时。 在这种情况下，网络在接受测试数据时会发生灾难性的故障。 这是网络无法泛化的经典案例。 为了避免这种趋势，模型使用了正则化层或函数。 常见的正则化层是 Dropout。"
   ]
  },
  {
   "cell_type": "markdown",
   "id": "21792f30",
   "metadata": {},
   "source": [
    "Dropout的想法很简单。 给定一个 dropout 率（这里，它被设置为 dropout = 0.45），Dropout 层会随机删除参与下一层的那部分单元。 例如，如果第一层有 256 个单位，应用 dropout = 0.45 后，只有 (1 - 0.45) * 256 个单位 = 来自第 1 层的 140 个单位参与第 2 层。"
   ]
  },
  {
   "cell_type": "markdown",
   "id": "d2040635",
   "metadata": {},
   "source": [
    "Dropout 层使神经网络对不可预见的输入数据具有鲁棒性，因为网络经过训练可以正确预测，即使缺少某些单元也是如此。 值得注意的是，输出层中没有使用 dropout，它仅在训练期间处于活动状态。 此外，在预测过程中不存在 dropout。\n",
    "\n",
    "除了诸如 l1 或 l2 之类的 dropout 之外，还可以使用正则化器。 在 Keras 中，可以对每层的偏差、权重和激活输出进行正则化。 l1 和 l2 通过添加惩罚函数来支持较小的参数值。 l1 和 l2 都使用参数值的绝对值 (l1) 或平方 (l2) 的总和的一部分来强制执行惩罚。 换句话说，惩罚函数迫使优化器找到较小的参数值。 具有小参数值的神经网络对输入数据中噪声的存在更不敏感。"
   ]
  },
  {
   "cell_type": "markdown",
   "id": "a0a11990",
   "metadata": {},
   "source": [
    "例如，分数=0.001 的 l2 权重正则化器可以实现为："
   ]
  },
  {
   "cell_type": "code",
   "execution_count": null,
   "id": "aac4b219",
   "metadata": {},
   "outputs": [],
   "source": [
    "from tensorflow.keras.regularizers import l2\n",
    "\n",
    "model.add(Dense(hidden_units,\n",
    "    kernel_regularizer=l2(0.001),\n",
    "    input_dim=input_size))"
   ]
  },
  {
   "cell_type": "markdown",
   "id": "cb721ef3",
   "metadata": {},
   "source": [
    "如果使用 l1 或 l2 正则化，则不会添加额外的层。 正则化是在 Dense 层内部进行的。 对于所提出的模型，dropout 仍然具有比 l2 更好的性能。\n",
    "\n",
    "我们几乎完成了我们的模型。 下一节重点介绍输出层和损失函数。"
   ]
  },
  {
   "cell_type": "markdown",
   "id": "6b6e987b",
   "metadata": {},
   "source": [
    "### 输出激活和损失函数"
   ]
  },
  {
   "cell_type": "markdown",
   "id": "2710a058",
   "metadata": {},
   "source": [
    "输出层有 10 个单元，后跟一个 softmax 激活层。 10 个单位对应 10 个可能的标签、类别或类别。 softmax 激活可以用数学表示，如下面的等式所示："
   ]
  },
  {
   "cell_type": "markdown",
   "id": "180cad2b",
   "metadata": {},
   "source": [
    "![](https://tva1.sinaimg.cn/large/008i3skNgy1gtbs76ve6aj318k04edfx.jpg)"
   ]
  },
  {
   "cell_type": "markdown",
   "id": "effda273",
   "metadata": {},
   "source": [
    "该方程适用于所有 N = 10 个输出，xi 表示 i = 0，1 … 9 表示最终预测。 softmax 的想法非常简单。 它通过规范化预测将输出压缩为概率。 这里，每个预测输出是索引是给定输入图像的正确标签的概率。 所有输出的所有概率之和为 1.0。 例如，当 softmax 层生成预测时，它将是一个 10 维的一维张量，可能类似于以下输出："
   ]
  },
  {
   "cell_type": "markdown",
   "id": "baafd6c0",
   "metadata": {},
   "source": [
    "![](https://tva1.sinaimg.cn/large/008i3skNgy1gtbs9o88zbj316406oq3r.jpg)"
   ]
  },
  {
   "cell_type": "markdown",
   "id": "45801067",
   "metadata": {},
   "source": [
    "预测输出张量表明输入图像将是 7，因为它的索引具有最高的概率。 numpy.argmax() 方法可用于确定具有最高值的元素的索引。"
   ]
  },
  {
   "cell_type": "markdown",
   "id": "4740476d",
   "metadata": {},
   "source": [
    "输出激活层还有其他选择，例如线性、sigmoid 或 tanh。 线性激活是一个恒等函数。 它将其输入复制到其输出。 sigmoid 函数更具体地称为逻辑 sigmoid。 如果预测张量的元素将在 0.0 和 1.0 之间独立映射，则将使用此选项。 与 softmax 不同，预测张量的所有元素的总和不限于 1.0。 例如，sigmoid 用作情感预测（从 0.0 到 1.0，0.0 为坏，1.0 为好）或图像生成（0.0 映射到像素级别 0，1.0 映射到像素 255）的最后一层。"
   ]
  },
  {
   "cell_type": "markdown",
   "id": "be322235",
   "metadata": {},
   "source": [
    "tanh 函数将其输入映射到 -1.0 到 1.0 的范围内。 如果输出可以在正值和负值之间摆动，这一点很重要。 tanh 函数更广泛地用于循环神经网络的内部层，但也被用作输出层激活。 如果在输出激活中使用 tanh 替换 sigmoid，则必须适当缩放所使用的数据。 例如，不是使用$x = \\frac{x}{255}$在 [0.0 1.0] 范围内缩放每个灰度像素，而是使用在[-1.0 1.0] 范围内使用$x = \\frac{x-17.5}{127.5}$ 。"
   ]
  },
  {
   "cell_type": "markdown",
   "id": "6e7e5440",
   "metadata": {},
   "source": [
    "图 1.3.6 中的下图显示了 sigmoid 和 tanh 函数。 在数学上，sigmoid 可以表示为以下等式："
   ]
  },
  {
   "cell_type": "markdown",
   "id": "9978f6ee",
   "metadata": {},
   "source": [
    "![](https://tva1.sinaimg.cn/large/008i3skNgy1gtbsfn66erj318c03g3yl.jpg)"
   ]
  },
  {
   "cell_type": "markdown",
   "id": "93889fe5",
   "metadata": {},
   "source": [
    "![](https://tva1.sinaimg.cn/large/008i3skNgy1gtbsg20h6ej30ym0mm0u7.jpg)"
   ]
  },
  {
   "cell_type": "markdown",
   "id": "3128ba9b",
   "metadata": {},
   "source": [
    "预测的张量与 one-hot ground truth 向量的距离称为损失。 一种类型的损失函数是 mean_squared_error (MSE)，或目标或标签与预测之间差异的平方的平均值。 在当前示例中，我们使用的是 categorical_crossentropy。 它是目标或标签的乘积与每个类别的预测的对数之和的负数。 Keras 中还有其他可用的损失函数，例如 mean_ absolute_error 和 binary_crossentropy。 表 1.3.2 总结了常见的损失函数。"
   ]
  },
  {
   "cell_type": "markdown",
   "id": "f1177d8d",
   "metadata": {},
   "source": [
    "![](https://tva1.sinaimg.cn/large/008i3skNgy1gtbsh8chypj30tw0ri40b.jpg)"
   ]
  },
  {
   "cell_type": "markdown",
   "id": "42a3b81f",
   "metadata": {},
   "source": [
    "模型正在学习。 对于按类别分类，在 softmax 激活层之后，categorical_crossentropy 或 mean_squared_error 都是不错的选择。 binary_crossentropy 损失函数通常在 sigmoid 激活层之后使用，而 mean_squared_error 是 tanh 输出的一个选项。 在下一节中，我们将讨论优化算法以最小化我们在这里讨论的损失函数。"
   ]
  },
  {
   "cell_type": "markdown",
   "id": "e779ed1a",
   "metadata": {},
   "source": [
    "### 优化"
   ]
  },
  {
   "cell_type": "markdown",
   "id": "9ebf95a1",
   "metadata": {},
   "source": [
    "通过优化，目标是最小化损失函数。 这个想法是，如果损失减少到可接受的水平，模型已经间接学习了将输入映射到输出的函数。 性能指标用于确定模型是否已了解基础数据分布。 Keras 中的默认指标是损失。 在训练、验证和测试期间，还可以包括其他指标，例如准确性。 准确度是基于真实情况的正确预测的百分比或分数。 在深度学习中，还有许多其他性能指标。 但是，这取决于模型的目标应用程序。 在文献中，报告了在测试数据集上训练模型的性能指标，以与其他深度学习模型进行比较。"
   ]
  },
  {
   "cell_type": "markdown",
   "id": "0b2b38fe",
   "metadata": {},
   "source": [
    "在 Keras 中，优化器有多种选择。 最常用的优化器是随机梯度下降 (SGD)、自适应矩 (Adam) 和均方根传播 (RMSprop)。 每个优化器都具有可调参数，如学习率、动量和衰减。 Adam 和 RMSprop 是具有自适应学习率的 SGD 变体。 在提议的分类器网络中，使用了 Adam，因为它具有最高的测试准确率。"
   ]
  },
  {
   "cell_type": "markdown",
   "id": "7c4c674f",
   "metadata": {},
   "source": [
    "SGD 被认为是最基本的优化器。 它是微积分中梯度下降的更简单版本。 在梯度下降 (GD) 中，跟踪函数曲线下坡会找到最小值，就像在山谷中下坡直到到达底部一样。"
   ]
  },
  {
   "cell_type": "markdown",
   "id": "b41e21f6",
   "metadata": {},
   "source": [
    "学习率的选择至关重要。 𝜖 的大值可能找不到最小值，因为搜索只会围绕最小值来回摆动。 一方面，在找到最小值之前，𝜖 的大值可能需要大量的迭代。 在多个最小值的情况下，搜索可能会陷入局部最小值。"
   ]
  },
  {
   "cell_type": "markdown",
   "id": "b379130c",
   "metadata": {},
   "source": [
    "![](https://tva1.sinaimg.cn/large/008i3skNgy1gtc105ws48j30zq0rcjtl.jpg)"
   ]
  },
  {
   "cell_type": "markdown",
   "id": "7c3d7181",
   "metadata": {},
   "source": [
    "多个最小值的示例如图 1.3.8 所示。 如果由于某种原因搜索从图的左侧开始并且学习率非常小，则 GD 很有可能找到 x = -1.51 作为 y 的最小值。 GD 不会在 x = 1.66 处找到全局最小值。 一个足够有价值的学习率将使 GD 能够克服 x = 0.0 处的小山。"
   ]
  },
  {
   "cell_type": "markdown",
   "id": "c1a7fb76",
   "metadata": {},
   "source": [
    "在深度学习实践中，通常建议从较大的学习率（例如，0.1 到 0.001）开始，并随着损失接近最小值而逐渐降低该值。"
   ]
  },
  {
   "cell_type": "markdown",
   "id": "1e13653e",
   "metadata": {},
   "source": [
    "![](https://tva1.sinaimg.cn/large/008i3skNgy1gtc11kvlmkj311k0pwdhs.jpg)"
   ]
  },
  {
   "cell_type": "markdown",
   "id": "61f47e5d",
   "metadata": {},
   "source": [
    "GD 通常不用于深度神经网络，因为通常会遇到数百万个参数进行训练。 执行完整的 GD 在计算上是低效的。 相反，使用 SGD。 在 SGD 中，选择一小批样本来计算下降的近似值。 参数（例如，权重和偏差）通过以下等式进行调整："
   ]
  },
  {
   "cell_type": "markdown",
   "id": "061d746a",
   "metadata": {},
   "source": [
    "公式 1.3.8 计算最后一层参数更新。 那么，我们如何调整前面各层的参数呢？ 在这种情况下，应用微分链式法则将导数传播到较低层并相应地计算梯度。 这种算法在深度学习中被称为反向传播。 反向传播的细节超出了本书的范围。 但是，可以在 http://neuralnetworksanddeeplearning.com 上找到一个很好的在线参考资料。"
   ]
  },
  {
   "cell_type": "markdown",
   "id": "a9f90093",
   "metadata": {},
   "source": [
    "由于优化基于微分，因此损失函数的一个重要标准是它必须是平滑的或可微的。 在引入新的损失函数时，这是一个需要牢记的重要约束。"
   ]
  },
  {
   "cell_type": "markdown",
   "id": "ec38ce78",
   "metadata": {},
   "source": [
    "给定训练数据集、损失函数的选择、优化器和正则化器，现在可以通过调用 fit() 函数来训练模型："
   ]
  },
  {
   "cell_type": "code",
   "execution_count": null,
   "id": "10cbf798",
   "metadata": {},
   "outputs": [],
   "source": [
    "# loss function for one-hot vector \n",
    "# use of adam optimizer\n",
    "# accuracy is a good metric for classification tasks model.\n",
    "compile(loss='categorical_crossentropy',optimizer='adam', metrics=['accuracy'])\n",
    "\n",
    "# train the network\n",
    "model.fit(x_train, y_train, epochs=20, batch_size=batch_size)"
   ]
  },
  {
   "cell_type": "markdown",
   "id": "866ba6d5",
   "metadata": {},
   "source": [
    "这是 Keras 的另一个有用功能。 通过只提供 x 和 y 数据、要训练的时期数和批量大小，fit() 会完成剩下的工作。 在其他深度学习框架中，这会转化为多项任务，例如以正确的格式准备输入和输出数据、加载、监控等。 虽然所有这些都必须在 for 循环中完成，但在 Keras 中，一切都在一行中完成。"
   ]
  },
  {
   "cell_type": "markdown",
   "id": "310c2870",
   "metadata": {},
   "source": [
    "在 fit() 函数中，一个 epoch 是对整个训练数据的完整采样。 batch_size 参数是每个训练步骤要处理的输入数量的样本大小。 为了完成一个 epoch，fit() 将处理等于训练数据集大小除以批量大小加 1 以补偿任何小数部分的步数。\n",
    "\n",
    "训练模型后，我们现在可以评估其性能。"
   ]
  },
  {
   "cell_type": "markdown",
   "id": "f0d9a0e7",
   "metadata": {},
   "source": [
    "### 绩效评估"
   ]
  },
  {
   "cell_type": "markdown",
   "id": "d0002099",
   "metadata": {},
   "source": [
    "至此，MNIST 数字分类器的模型现已完成。 性能评估将是确定所提出的训练模型是否提出令人满意的解决方案的下一个关键步骤。 将模型训练 20 个 epoch 就足以获得可比较的性能指标。"
   ]
  },
  {
   "cell_type": "markdown",
   "id": "e770d1b0",
   "metadata": {},
   "source": [
    "下表（表 1.3.3）显示了不同的网络配置和相应的性能指标。 在 Layers 下，显示了第 1 层到第 3 层的单元数。对于每个优化器，使用 tf.keras 中的默认参数。 可以观察到改变正则化器、优化器和每层单元数的影响。 表 1.3.3 中的另一个重要观察结果是，更大的网络不一定会转化为更好的性能。"
   ]
  },
  {
   "cell_type": "markdown",
   "id": "46642a6f",
   "metadata": {},
   "source": [
    "增加该网络的深度在训练和测试数据集的准确性方面没有显示出额外的好处。 另一方面，较少数量的单元，如 128，也会降低测试和训练的准确性。 去除正则化器后获得了 99.93% 的最佳训练准确率，每层使用 256 个单位。 然而，由于网络过度拟合，测试准确度要低得多，为 98.0%。"
   ]
  },
  {
   "cell_type": "markdown",
   "id": "ddfcfd41",
   "metadata": {},
   "source": [
    "最高的测试准确度是使用 Adam 优化器和 Dropout(0.45) 达到 98.5%。 从技术上讲，鉴于其训练准确率为 99.39%，仍然存在一定程度的过度拟合。 对于 256-512-256、Dropout(0.45) 和 SGD，训练和测试准确度都为 98.2%。 删除正则化层和 ReLU 层会导致其性能最差。 通常，我们会发现 Dropout 层的性能比 l2 更好。"
   ]
  },
  {
   "cell_type": "markdown",
   "id": "5a0f5812",
   "metadata": {},
   "source": [
    "下表展示了调优期间典型的深度神经网络性能："
   ]
  },
  {
   "cell_type": "markdown",
   "id": "9f7b48e9",
   "metadata": {},
   "source": [
    "![](https://tva1.sinaimg.cn/large/008i3skNgy1gtc19tmv4hj31da0kywis.jpg)"
   ]
  },
  {
   "cell_type": "markdown",
   "id": "44d1c2ea",
   "metadata": {},
   "source": [
    "![](https://tva1.sinaimg.cn/large/008i3skNgy1gtc1a4f87pj31do0mkn29.jpg)"
   ]
  },
  {
   "cell_type": "markdown",
   "id": "787f9c2d",
   "metadata": {},
   "source": [
    "该示例表明需要改进网络架构。 在下一节讨论了 MLP 分类器模型总结之后，我们将介绍另一个 MNIST 分类器。 下一个模型基于 CNN，并展示了测试准确性的显着提高。"
   ]
  },
  {
   "cell_type": "markdown",
   "id": "ebc19cad",
   "metadata": {},
   "source": [
    "### 模型总结"
   ]
  },
  {
   "cell_type": "markdown",
   "id": "7229e7c5",
   "metadata": {},
   "source": [
    "使用 Keras 库为我们提供了一种快速机制，可以通过调用以下方法来双重检查模型描述："
   ]
  },
  {
   "cell_type": "code",
   "execution_count": 13,
   "id": "193faaf0",
   "metadata": {},
   "outputs": [
    {
     "name": "stdout",
     "output_type": "stream",
     "text": [
      "Model: \"sequential_3\"\n",
      "_________________________________________________________________\n",
      "Layer (type)                 Output Shape              Param #   \n",
      "=================================================================\n",
      "dense_3 (Dense)              (None, 256)               200960    \n",
      "_________________________________________________________________\n",
      "activation_3 (Activation)    (None, 256)               0         \n",
      "_________________________________________________________________\n",
      "dropout_2 (Dropout)          (None, 256)               0         \n",
      "_________________________________________________________________\n",
      "dense_4 (Dense)              (None, 256)               65792     \n",
      "_________________________________________________________________\n",
      "activation_4 (Activation)    (None, 256)               0         \n",
      "_________________________________________________________________\n",
      "dropout_3 (Dropout)          (None, 256)               0         \n",
      "_________________________________________________________________\n",
      "dense_5 (Dense)              (None, 10)                2570      \n",
      "_________________________________________________________________\n",
      "activation_5 (Activation)    (None, 10)                0         \n",
      "=================================================================\n",
      "Total params: 269,322\n",
      "Trainable params: 269,322\n",
      "Non-trainable params: 0\n",
      "_________________________________________________________________\n",
      "time: 5.5 ms (started: 2021-08-10 21:57:07 +08:00)\n"
     ]
    }
   ],
   "source": [
    "model.summary()"
   ]
  },
  {
   "cell_type": "markdown",
   "id": "479717b2",
   "metadata": {},
   "source": [
    "下面的清单 1.3.3 显示了所提议网络的模型摘要。 它总共需要 269,322 个参数。 考虑到我们有一个对 MNIST 数字进行分类的简单任务，这很重要。 MLP 的参数效率不高。 通过关注感知器的输出是如何计算的，可以从图 1.3.4 计算参数的数量。 从输入到 Dense 层：784 × 256 + 256 = 200,960。 从第一个 Dense 层到第二个 Dense 层：256 × 256 + 256 = 65,792。 从第二个 Dense 层到输出层：10 × 256 + 10 = 2,570。 总数为 269,322。"
   ]
  },
  {
   "cell_type": "code",
   "execution_count": null,
   "id": "0a20d89e",
   "metadata": {},
   "outputs": [],
   "source": [
    "另一种验证网络的方法是调用："
   ]
  },
  {
   "cell_type": "code",
   "execution_count": 18,
   "id": "e5db5bcb",
   "metadata": {},
   "outputs": [
    {
     "name": "stdout",
     "output_type": "stream",
     "text": [
      "('You must install pydot (`pip install pydot`) and install graphviz (see instructions at https://graphviz.gitlab.io/download/) ', 'for plot_model/model_to_dot to work.')\n",
      "time: 1.13 ms (started: 2021-08-10 21:59:14 +08:00)\n"
     ]
    }
   ],
   "source": [
    "plot_model(model, show_shapes=True)"
   ]
  },
  {
   "cell_type": "code",
   "execution_count": null,
   "id": "3acc6815",
   "metadata": {},
   "outputs": [],
   "source": [
    "图 1.3.9 显示了该图。 你会发现这和summary()的结果很相似\n",
    "但以图形方式显示了每一层的互连和 I/O。"
   ]
  },
  {
   "cell_type": "code",
   "execution_count": 20,
   "id": "9fed0cbe",
   "metadata": {},
   "outputs": [
    {
     "name": "stdout",
     "output_type": "stream",
     "text": [
      "Looking in indexes: https://mirrors.aliyun.com/pypi/simple/\n",
      "Requirement already satisfied: graphviz in /data/miniconda3/envs/tf2keras/lib/python3.9/site-packages (0.16)\n",
      "\u001b[33mWARNING: You are using pip version 21.1.3; however, version 21.2.2 is available.\n",
      "You should consider upgrading via the '/data/miniconda3/envs/tf2keras/bin/python -m pip install --upgrade pip' command.\u001b[0m\n",
      "Note: you may need to restart the kernel to use updated packages.\n",
      "time: 1.63 s (started: 2021-08-10 22:01:04 +08:00)\n"
     ]
    }
   ],
   "source": [
    "pip install graphviz"
   ]
  },
  {
   "cell_type": "code",
   "execution_count": null,
   "id": "f1578b32",
   "metadata": {},
   "outputs": [],
   "source": []
  }
 ],
 "metadata": {
  "kernelspec": {
   "display_name": "Python [conda env:tf2keras]",
   "language": "python",
   "name": "conda-env-tf2keras-py"
  },
  "language_info": {
   "codemirror_mode": {
    "name": "ipython",
    "version": 3
   },
   "file_extension": ".py",
   "mimetype": "text/x-python",
   "name": "python",
   "nbconvert_exporter": "python",
   "pygments_lexer": "ipython3",
   "version": "3.9.5"
  },
  "toc-autonumbering": true
 },
 "nbformat": 4,
 "nbformat_minor": 5
}
