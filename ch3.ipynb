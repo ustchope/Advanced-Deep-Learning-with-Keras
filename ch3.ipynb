{
 "cells": [
  {
   "cell_type": "code",
   "execution_count": 2,
   "id": "healthy-portuguese",
   "metadata": {},
   "outputs": [
    {
     "name": "stdout",
     "output_type": "stream",
     "text": [
      "time: 13.1 ms (started: 2021-08-11 14:58:23 +08:00)\n"
     ]
    }
   ],
   "source": [
    "# 自动计算cell的计算时间\n",
    "%load_ext autotime\n",
    "\n",
    "%config InlineBackend.figure_format='svg' #矢量图设置，让绘图更清晰"
   ]
  },
  {
   "cell_type": "code",
   "execution_count": null,
   "id": "equivalent-white",
   "metadata": {},
   "outputs": [],
   "source": [
    "%%bash\n",
    "\n",
    "# 增加更新\n",
    "git add *.ipynb\n",
    "\n",
    "git remote -v\n",
    "\n",
    "git commit -m '更新 ch1 #1 change Aug 11, 2021'\n",
    "\n",
    "git push origin master"
   ]
  },
  {
   "cell_type": "code",
   "execution_count": null,
   "id": "sound-consumer",
   "metadata": {},
   "outputs": [],
   "source": [
    "#设置使用的gpu\n",
    "import tensorflow as tf\n",
    "\n",
    "gpus = tf.config.list_physical_devices(\"GPU\")\n",
    "\n",
    "if gpus:\n",
    "   \n",
    "    gpu0 = gpus[0] #如果有多个GPU，仅使用第0个GPU\n",
    "    tf.config.experimental.set_memory_growth(gpu0, True) #设置GPU显存用量按需使用\n",
    "    # 或者也可以设置GPU显存为固定使用量(例如：4G)\n",
    "    #tf.config.experimental.set_virtual_device_configuration(gpu0,\n",
    "    #    [tf.config.experimental.VirtualDeviceConfiguration(memory_limit=4096)]) \n",
    "    tf.config.set_visible_devices([gpu0],\"GPU\")"
   ]
  },
  {
   "cell_type": "markdown",
   "id": "considerable-essay",
   "metadata": {},
   "source": [
    "# 自编码器"
   ]
  },
  {
   "cell_type": "markdown",
   "id": "reverse-irrigation",
   "metadata": {},
   "source": [
    "在上一章，第 2 章，深度神经网络中，我们介绍了深度神经网络的概念。 我们现在将继续研究自动编码器，它是一种神经网络架构，试图找到给定输入数据的压缩表示。\n",
    "\n",
    "与前几章类似，输入数据可能有多种形式，包括语音、文本、图像或视频。 自编码器将尝试找到一个表示或一段代码，以便对输入数据执行有用的转换。 例如，在对自动编码器进行去噪时，神经网络将尝试找到可用于将嘈杂数据转换为干净数据的代码。 嘈杂的数据可以是带有静态噪声的录音形式，然后将其转换为清晰的声音。 自编码器将仅从数据中自动学习代码，无需人工标记。 因此，自动编码器可以归类为无监督学习算法。"
   ]
  },
  {
   "cell_type": "markdown",
   "id": "documented-google",
   "metadata": {},
   "source": [
    "在本书后面的章节中，我们将介绍生成对抗网络 (GAN) 和变分自动编码器 (VAE)，它们也是无监督学习算法的代表形式。 这与我们在前几章讨论的监督学习算法形成对比，后者需要人工注释。\n",
    "\n",
    "总之，本章介绍：\n",
    "* 自编码器的原理\n",
    "* 如何使用 tf.keras 实现自动编码器\n",
    "* 去噪和着色自编码器的实际应用\n",
    "\n",
    "让我们首先了解什么是自动编码器，以及自动编码器的原理。"
   ]
  },
  {
   "cell_type": "markdown",
   "id": "leading-indie",
   "metadata": {},
   "source": [
    "## 自编码器的原理"
   ]
  },
  {
   "cell_type": "code",
   "execution_count": null,
   "id": "popular-celebrity",
   "metadata": {},
   "outputs": [],
   "source": []
  }
 ],
 "metadata": {
  "kernelspec": {
   "display_name": "Python [conda env:tensorflow]",
   "language": "python",
   "name": "conda-env-tensorflow-py"
  },
  "language_info": {
   "codemirror_mode": {
    "name": "ipython",
    "version": 3
   },
   "file_extension": ".py",
   "mimetype": "text/x-python",
   "name": "python",
   "nbconvert_exporter": "python",
   "pygments_lexer": "ipython3",
   "version": "3.8.10"
  }
 },
 "nbformat": 4,
 "nbformat_minor": 5
}
